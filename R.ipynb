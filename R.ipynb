{
 "cells": [
  {
   "cell_type": "markdown",
   "id": "4ec0bf68-e3e2-42b5-94b2-942ec016fe8d",
   "metadata": {},
   "source": [
    "\n",
    "<center>\n",
    "<a href=\"http://www.insa-toulouse.fr/\" ><img src=\"http://www.math.univ-toulouse.fr/~besse/Wikistat/Images/logo-insa.jpg\" style=\"float:right; max-width: 120px; display: inline\" alt=\"INSA\"/></a> "
   ]
  },
  {
   "cell_type": "markdown",
   "id": "e3c1e039-9ab6-40d2-ae82-73b062f0fe8c",
   "metadata": {},
   "source": [
    "# <FONT COLOR=\"Red\">Projet de Machine Learning: Gym Members Exercise</font> <a href=\"https://cran.r-project.org/\"><img src=\"https://cran.r-project.org/Rlogo.svg\" style=\"max-width: 40px; display: inline\" alt=\"R\"/></a>"
   ]
  },
  {
   "cell_type": "markdown",
   "id": "07dcdb13-8b8f-4123-bcac-ec004e8d4654",
   "metadata": {},
   "source": [
    "<a href=\"https://www.cancercenter.com\" ><img src= \"https://i.chzbgr.com/full/9198216192/hAFAF11FB\" style=\"float:center; max-width: 800px; display: inline\"  alt=\"Gym\"/></a>\n",
    "</center>"
   ]
  },
  {
   "cell_type": "markdown",
   "id": "95994865-5c12-4cfe-8005-417073486dba",
   "metadata": {},
   "source": [
    "# Jeu de données\n"
   ]
  },
  {
   "cell_type": "markdown",
   "id": "32dea083-47a9-4991-a79b-b2686c93b075",
   "metadata": {},
   "source": [
    "Les données proviennent du concours KAGGLE et font partie du jeu de données intitulé \"Gym Members Exercise Dataset\", accessible ici : [Gym Members Exercise Dataset](https://www.kaggle.com/datasets/valakhorasani/gym-members-exercise-dataset).\n",
    "\n",
    "Ce jeu de données offre un aperçu détaillé des habitudes d'exercice, des caractéristiques physiques et des indicateurs de condition physique des membres d’une salle de sport. Il comprend 15 variables observées chez 973 individus fréquentant une salle de sport :\n",
    "\n",
    "- **Age** : Âge du membre.\n",
    "- **Gender** : Sexe du membre (variable qualitative avec deux catégories : homme ou femme).\n",
    "- **Weight_kg** : Poids en kilogrammes.\n",
    "- **Height_m** : Taille en mètres.\n",
    "- **Max_BPM** : Fréquence cardiaque maximale (en battements par minute) atteinte pendant les séances d’entraînement.\n",
    "- **Avg_BPM** : Fréquence cardiaque moyenne durant les séances d’entraînement.\n",
    "- **Resting_BPM** : Fréquence cardiaque au repos avant l’entraînement.\n",
    "- **Session_Duration_hours** : Durée de chaque séance d’entraînement en heures.\n",
    "- **Calories_Burned** : Nombre total de calories brûlées lors de chaque séance.\n",
    "- **Workout_Type** : Type d’entraînement pratiqué (variable qualitative avec 4 catégories : cardio, musculation, yoga, HIIT).\n",
    "- **Fat_Percentage** : Pourcentage de masse grasse du membre.\n",
    "- **Water_Intake_liters** : Quantité d’eau consommée quotidiennement pendant les séances d’entraînement.\n",
    "- **Workout_Frequency_days_week** : Nombre de séances d’entraînement hebdomadaires (variable qualitative avec 4 catégories : de 2 à 5 séances).\n",
    "- **Experience_Level** : Niveau d’expérience (variable qualitative avec 3 niveaux : 1 pour débutant, 3 pour expert).\n",
    "- **BMI** : Indice de masse corporelle (IMC), calculé à partir du poids et de la taille.\n",
    "\n",
    "L'objectif de ce projet est d'abord de prédire la variable **Calories_Burned** en fonction des autres variables, puis d'estimer la variable **Experience_Level** en utilisant toutes les autres variables disponibles, y compris **Calories_Burned**.\n"
   ]
  },
  {
   "cell_type": "code",
   "execution_count": 27,
   "id": "436e5992-2ba9-4f5b-94be-2de1423274c0",
   "metadata": {},
   "outputs": [],
   "source": [
    "library(ggplot2)\n",
    "library(gridExtra)\n",
    "library(dplyr)\n",
    "library(corrplot)\n",
    "library(tidyverse)\n",
    "library(gridExtra)\n",
    "library(GGally)\n",
    "library(plotly)\n",
    "library(reshape2)\n",
    "library(FactoMineR) \n",
    "library(factoextra)\n",
    "library(glmnet) \n",
    "library(ggfortify)\n",
    "library(pROC)\n",
    "library(ROCR)\n",
    "library(ggcorrplot)\n",
    "library(ggmosaic)\n",
    "library(RColorBrewer)\n",
    "library(MASS)\n",
    "library(e1071)\n",
    "library(rpart)\n",
    "library(rpart.plot)\n",
    "library(partykit)\n",
    "library(gplots)\n",
    "library(caret)\n",
    "library(randomForest)\n",
    "library(ggRandomForests)\n",
    "library(gbm)\n",
    "library(nnet)\n",
    "library(lmtest)\n",
    "set.seed(123)"
   ]
  },
  {
   "cell_type": "markdown",
   "id": "27d8f017-16ef-46f3-bd0f-64014fa1ab18",
   "metadata": {
    "jp-MarkdownHeadingCollapsed": true
   },
   "source": [
    "# <FONT COLOR=\"Green\">Partie I: Analyse exploratoire des données</font>\n",
    "L’objectif dans un premier temps est d’explorer les différentes variables, étape préliminaire indispensable à\n",
    "l’analyse. Ci-dessous sont précisées quelques questions basiques. Vous pouvez compléter l’analyse selon vos\n",
    "propres idées.\n",
    "* Commencez par vérifier la nature des différentes variables et leur encodage. N’oubliez pas de convertir\n",
    "toutes les variables qualitatives.\n",
    "* Commencez l’exploration par une analyse descriptive unidimensionnelle des données. Des transformations\n",
    "des variables quantitatives vous semblent-t-elles pertinentes ?\n",
    "* Poursuivez avec une analyse descriptive bidimensionnelle. Utilisez des techniques de visualisation: par\n",
    "exemple les nuages de points (scatterplot), des graphes des correlations, des boîtes à moustaches parallèles,\n",
    "mosaicplot... Quelles variables semblent liées ?\n",
    "* Réalisez une analyse en composantes principales des variables explicatives quantitatives et interprétez les\n",
    "résultats. Visualisez les dépendances éventuelles entre les variables à prédire et les variables explicatives."
   ]
  },
  {
   "cell_type": "markdown",
   "id": "226e25b2-556e-4e9e-8e61-93a9c4de90de",
   "metadata": {},
   "source": [
    "## <FONT COLOR=\"Orange\">1. Preprocessing</font>"
   ]
  },
  {
   "cell_type": "code",
   "execution_count": 3,
   "id": "b25c2a8a-4474-4716-b6f3-0265a9b91ab6",
   "metadata": {},
   "outputs": [],
   "source": [
    "data = read.csv(\"gym_members_exercise_tracking.csv\")"
   ]
  },
  {
   "cell_type": "code",
   "execution_count": 46,
   "id": "9ac89b81-2908-40e6-84dc-c66d9a8251b8",
   "metadata": {},
   "outputs": [
    {
     "data": {
      "text/html": [
       "<table class=\"dataframe\">\n",
       "<caption>A data.frame: 15 × 1</caption>\n",
       "<thead>\n",
       "\t<tr><th></th><th scope=col>colSums(is.na(data))</th></tr>\n",
       "\t<tr><th></th><th scope=col>&lt;dbl&gt;</th></tr>\n",
       "</thead>\n",
       "<tbody>\n",
       "\t<tr><th scope=row>Age</th><td>0</td></tr>\n",
       "\t<tr><th scope=row>Gender</th><td>0</td></tr>\n",
       "\t<tr><th scope=row>Weight..kg.</th><td>0</td></tr>\n",
       "\t<tr><th scope=row>Height..m.</th><td>0</td></tr>\n",
       "\t<tr><th scope=row>Max_BPM</th><td>0</td></tr>\n",
       "\t<tr><th scope=row>Avg_BPM</th><td>0</td></tr>\n",
       "\t<tr><th scope=row>Resting_BPM</th><td>0</td></tr>\n",
       "\t<tr><th scope=row>Session_Duration..hours.</th><td>0</td></tr>\n",
       "\t<tr><th scope=row>Calories_Burned</th><td>0</td></tr>\n",
       "\t<tr><th scope=row>Workout_Type</th><td>0</td></tr>\n",
       "\t<tr><th scope=row>Fat_Percentage</th><td>0</td></tr>\n",
       "\t<tr><th scope=row>Water_Intake..liters.</th><td>0</td></tr>\n",
       "\t<tr><th scope=row>Workout_Frequency..days.week.</th><td>0</td></tr>\n",
       "\t<tr><th scope=row>Experience_Level</th><td>0</td></tr>\n",
       "\t<tr><th scope=row>BMI</th><td>0</td></tr>\n",
       "</tbody>\n",
       "</table>\n"
      ],
      "text/latex": [
       "A data.frame: 15 × 1\n",
       "\\begin{tabular}{r|l}\n",
       "  & colSums(is.na(data))\\\\\n",
       "  & <dbl>\\\\\n",
       "\\hline\n",
       "\tAge & 0\\\\\n",
       "\tGender & 0\\\\\n",
       "\tWeight..kg. & 0\\\\\n",
       "\tHeight..m. & 0\\\\\n",
       "\tMax\\_BPM & 0\\\\\n",
       "\tAvg\\_BPM & 0\\\\\n",
       "\tResting\\_BPM & 0\\\\\n",
       "\tSession\\_Duration..hours. & 0\\\\\n",
       "\tCalories\\_Burned & 0\\\\\n",
       "\tWorkout\\_Type & 0\\\\\n",
       "\tFat\\_Percentage & 0\\\\\n",
       "\tWater\\_Intake..liters. & 0\\\\\n",
       "\tWorkout\\_Frequency..days.week. & 0\\\\\n",
       "\tExperience\\_Level & 0\\\\\n",
       "\tBMI & 0\\\\\n",
       "\\end{tabular}\n"
      ],
      "text/markdown": [
       "\n",
       "A data.frame: 15 × 1\n",
       "\n",
       "| <!--/--> | colSums(is.na(data)) &lt;dbl&gt; |\n",
       "|---|---|\n",
       "| Age | 0 |\n",
       "| Gender | 0 |\n",
       "| Weight..kg. | 0 |\n",
       "| Height..m. | 0 |\n",
       "| Max_BPM | 0 |\n",
       "| Avg_BPM | 0 |\n",
       "| Resting_BPM | 0 |\n",
       "| Session_Duration..hours. | 0 |\n",
       "| Calories_Burned | 0 |\n",
       "| Workout_Type | 0 |\n",
       "| Fat_Percentage | 0 |\n",
       "| Water_Intake..liters. | 0 |\n",
       "| Workout_Frequency..days.week. | 0 |\n",
       "| Experience_Level | 0 |\n",
       "| BMI | 0 |\n",
       "\n"
      ],
      "text/plain": [
       "                              colSums(is.na(data))\n",
       "Age                           0                   \n",
       "Gender                        0                   \n",
       "Weight..kg.                   0                   \n",
       "Height..m.                    0                   \n",
       "Max_BPM                       0                   \n",
       "Avg_BPM                       0                   \n",
       "Resting_BPM                   0                   \n",
       "Session_Duration..hours.      0                   \n",
       "Calories_Burned               0                   \n",
       "Workout_Type                  0                   \n",
       "Fat_Percentage                0                   \n",
       "Water_Intake..liters.         0                   \n",
       "Workout_Frequency..days.week. 0                   \n",
       "Experience_Level              0                   \n",
       "BMI                           0                   "
      ]
     },
     "metadata": {},
     "output_type": "display_data"
    }
   ],
   "source": [
    "as.data.frame(colSums(is.na(data)))"
   ]
  },
  {
   "cell_type": "markdown",
   "id": "16685237-691a-4c9c-8aa1-6fdd8433eefe",
   "metadata": {},
   "source": [
    "Donc, des données contiennent pas des valeurs nulls"
   ]
  },
  {
   "cell_type": "code",
   "execution_count": 48,
   "id": "0603bf0f-d2b9-42f4-992c-6c940692d3ff",
   "metadata": {},
   "outputs": [
    {
     "data": {
      "text/plain": [
       "      Age           Gender           Weight..kg.       Height..m.   \n",
       " Min.   :18.00   Length:973         Min.   : 40.00   Min.   :1.500  \n",
       " 1st Qu.:28.00   Class :character   1st Qu.: 58.10   1st Qu.:1.620  \n",
       " Median :40.00   Mode  :character   Median : 70.00   Median :1.710  \n",
       " Mean   :38.68                      Mean   : 73.85   Mean   :1.723  \n",
       " 3rd Qu.:49.00                      3rd Qu.: 86.00   3rd Qu.:1.800  \n",
       " Max.   :59.00                      Max.   :129.90   Max.   :2.000  \n",
       "    Max_BPM         Avg_BPM       Resting_BPM    Session_Duration..hours.\n",
       " Min.   :160.0   Min.   :120.0   Min.   :50.00   Min.   :0.500           \n",
       " 1st Qu.:170.0   1st Qu.:131.0   1st Qu.:56.00   1st Qu.:1.040           \n",
       " Median :180.0   Median :143.0   Median :62.00   Median :1.260           \n",
       " Mean   :179.9   Mean   :143.8   Mean   :62.22   Mean   :1.256           \n",
       " 3rd Qu.:190.0   3rd Qu.:156.0   3rd Qu.:68.00   3rd Qu.:1.460           \n",
       " Max.   :199.0   Max.   :169.0   Max.   :74.00   Max.   :2.000           \n",
       " Calories_Burned  Workout_Type       Fat_Percentage  Water_Intake..liters.\n",
       " Min.   : 303.0   Length:973         Min.   :10.00   Min.   :1.500        \n",
       " 1st Qu.: 720.0   Class :character   1st Qu.:21.30   1st Qu.:2.200        \n",
       " Median : 893.0   Mode  :character   Median :26.20   Median :2.600        \n",
       " Mean   : 905.4                      Mean   :24.98   Mean   :2.627        \n",
       " 3rd Qu.:1076.0                      3rd Qu.:29.30   3rd Qu.:3.100        \n",
       " Max.   :1783.0                      Max.   :35.00   Max.   :3.700        \n",
       " Workout_Frequency..days.week. Experience_Level      BMI       \n",
       " Min.   :2.000                 Min.   :1.00     Min.   :12.32  \n",
       " 1st Qu.:3.000                 1st Qu.:1.00     1st Qu.:20.11  \n",
       " Median :3.000                 Median :2.00     Median :24.16  \n",
       " Mean   :3.322                 Mean   :1.81     Mean   :24.91  \n",
       " 3rd Qu.:4.000                 3rd Qu.:2.00     3rd Qu.:28.56  \n",
       " Max.   :5.000                 Max.   :3.00     Max.   :49.84  "
      ]
     },
     "metadata": {},
     "output_type": "display_data"
    }
   ],
   "source": [
    "summary(data) "
   ]
  },
  {
   "cell_type": "markdown",
   "id": "d87cc327-94fd-4cf4-9b9f-898510113c2c",
   "metadata": {},
   "source": [
    "Nous observons que:\n",
    "- **Gender** (Sexe) → *Caractère (qualitative nominale)*\n",
    "- **Workout_Type** (Type d'entraînement) → *Caractère (qualitative nominale)*\n",
    "- **Workout_Frequency.days.week.** (Fréquence d'entraînement) → *Qualitative ordinale* (modalités discrètes : 2 à 5 jours)\n",
    "- **Experience_Level** (Niveau d’expérience) → *Qualitative ordinale* (valeurs : 1 = débutant, 3 = expert)\n",
    "- **Age** (Âge) → *Quantitative continue*\n",
    "- **Weight_kg** (Poids) → *Quantitative continue*\n",
    "- **Height_m** (Taille) → *Quantitative continue*\n",
    "- **Max_BPM** (Fréquence cardiaque max) → *Quantitative continue*\n",
    "- **Avg_BPM** (Fréquence cardiaque moyenne) → *Quantitative continue*\n",
    "- **Resting_BPM** (Fréquence cardiaque au repos) → *Quantitative continue*\n",
    "- **Session_Duration_hours** (Durée de séance) → *Quantitative continue*\n",
    "- **Calories_Burned** (Calories brûlées) → *Quantitative continue*\n",
    "- **Fat_Percentage** (Pourcentage de graisse) → *Quantitative continue*\n",
    "- **Water_Intake_liters** (Consommation d’eau) → *Quantitative continue*\n",
    "- **BMI** (Indice de masse corporelle) → *Quantitative continue*\n",
    "\n",
    "**Cependant, la presentation des variables qualitatives ne sont pas efficases pour les analyser, donc, il faut changer du type des variables qualitatives en facteur**"
   ]
  },
  {
   "cell_type": "code",
   "execution_count": 5,
   "id": "90704e8c-1bf2-4440-b7d2-efa2e89a50bd",
   "metadata": {},
   "outputs": [
    {
     "data": {
      "text/plain": [
       "      Age           Gender     Weight..kg.       Height..m.       Max_BPM     \n",
       " Min.   :18.00   Female:462   Min.   : 40.00   Min.   :1.500   Min.   :160.0  \n",
       " 1st Qu.:28.00   Male  :511   1st Qu.: 58.10   1st Qu.:1.620   1st Qu.:170.0  \n",
       " Median :40.00                Median : 70.00   Median :1.710   Median :180.0  \n",
       " Mean   :38.68                Mean   : 73.85   Mean   :1.723   Mean   :179.9  \n",
       " 3rd Qu.:49.00                3rd Qu.: 86.00   3rd Qu.:1.800   3rd Qu.:190.0  \n",
       " Max.   :59.00                Max.   :129.90   Max.   :2.000   Max.   :199.0  \n",
       "    Avg_BPM       Resting_BPM    Session_Duration..hours. Calories_Burned \n",
       " Min.   :120.0   Min.   :50.00   Min.   :0.500            Min.   : 303.0  \n",
       " 1st Qu.:131.0   1st Qu.:56.00   1st Qu.:1.040            1st Qu.: 720.0  \n",
       " Median :143.0   Median :62.00   Median :1.260            Median : 893.0  \n",
       " Mean   :143.8   Mean   :62.22   Mean   :1.256            Mean   : 905.4  \n",
       " 3rd Qu.:156.0   3rd Qu.:68.00   3rd Qu.:1.460            3rd Qu.:1076.0  \n",
       " Max.   :169.0   Max.   :74.00   Max.   :2.000            Max.   :1783.0  \n",
       "   Workout_Type Fat_Percentage  Water_Intake..liters.\n",
       " Cardio  :255   Min.   :10.00   Min.   :1.500        \n",
       " HIIT    :221   1st Qu.:21.30   1st Qu.:2.200        \n",
       " Strength:258   Median :26.20   Median :2.600        \n",
       " Yoga    :239   Mean   :24.98   Mean   :2.627        \n",
       "                3rd Qu.:29.30   3rd Qu.:3.100        \n",
       "                Max.   :35.00   Max.   :3.700        \n",
       " Workout_Frequency..days.week. Experience_Level      BMI       \n",
       " 2:197                         1:376            Min.   :12.32  \n",
       " 3:368                         2:406            1st Qu.:20.11  \n",
       " 4:306                         3:191            Median :24.16  \n",
       " 5:102                                          Mean   :24.91  \n",
       "                                                3rd Qu.:28.56  \n",
       "                                                Max.   :49.84  "
      ]
     },
     "metadata": {},
     "output_type": "display_data"
    }
   ],
   "source": [
    "data[, 'Gender'] <- as.factor(data[, 'Gender'])\n",
    "data[, 'Workout_Type'] <- as.factor(data[, 'Workout_Type'])\n",
    "data[, 'Workout_Frequency..days.week.'] <- as.factor(data[, 'Workout_Frequency..days.week.'])\n",
    "data[, 'Experience_Level'] <- as.factor(data[, 'Experience_Level'])\n",
    "summary(data)"
   ]
  },
  {
   "cell_type": "markdown",
   "id": "fd263bc1-de01-43c1-8f1e-5e3453587103",
   "metadata": {},
   "source": [
    "## <FONT COLOR=\"Orange\">2. Analyse descriptive unidimensionnelle</font>"
   ]
  },
  {
   "cell_type": "code",
   "execution_count": 9,
   "id": "fbacbea9-51b9-42bd-89aa-a3730df69d74",
   "metadata": {},
   "outputs": [],
   "source": [
    "cat_cols <- c('Gender', 'Workout_Type', 'Workout_Frequency..days.week.', 'Experience_Level')\n",
    "cat <- data[, cat_cols]\n",
    "num <- data[, setdiff(names(data), cat_cols)]\n",
    "num_cols <- colnames(num)"
   ]
  },
  {
   "cell_type": "markdown",
   "id": "ee213b2b-91bb-4c13-8530-4e475570d325",
   "metadata": {},
   "source": [
    "### <FONT COLOR=\"Blue\">2.1. Variables quantitatives</font>"
   ]
  },
  {
   "cell_type": "markdown",
   "id": "f2d161dd-8427-4ab6-8223-f77d12d1b2b3",
   "metadata": {},
   "source": [
    "- **Distribution de la variable en classes**"
   ]
  },
  {
   "cell_type": "code",
   "execution_count": 52,
   "id": "f906fa4c-8f9d-4fd4-a505-7a065a38a536",
   "metadata": {},
   "outputs": [
    {
     "data": {
      "image/png": "[encoded data removed]",
      "text/plain": [
       "plot without title"
      ]
     },
     "metadata": {
      "image/png": {
       "height": 960,
       "width": 1080
      }
     },
     "output_type": "display_data"
    }
   ],
   "source": [
    "hist_age = ggplot(data, aes(x = Age)) +\n",
    "  geom_histogram(aes(y = after_stat(count)), bins = 10, fill = \"skyblue\", color = \"black\", alpha = 0.7) +   \n",
    "  geom_density( aes(y = after_stat(density * nrow(data) * (max(data$Age) - min(data$Age)) / 10)), color = \"red\", linewidth = 1 ) +  \n",
    "  labs(title = \"Distribution de l'Âge\", x = \"Âge\", y = \"Nombre de personnes\" ) + \n",
    "  theme_minimal()  \n",
    "hist_weight = ggplot(data, aes(x = Weight..kg.)) +\n",
    "  geom_histogram(aes(y = after_stat(count)), bins = 20, fill = \"skyblue\", color = \"black\", alpha = 0.7) +   \n",
    "  geom_density(aes(y = after_stat(density * nrow(data) * (max(data$Weight..kg.) - min(data$Weight..kg.)) / 20)), color = \"red\", linewidth = 1) +  \n",
    "  labs(title = \"Distribution du poids\", x = \"Poids\", y = \"Densité\") +  \n",
    "  theme_minimal()  \n",
    "hist_Max_BPM = ggplot(data, aes(x = Max_BPM)) +\n",
    "  geom_histogram(aes(y = after_stat(count)), bins = 30,  fill = \"skyblue\", color = \"black\", alpha = 0.7) +   \n",
    "  geom_density(aes(y = after_stat(density * nrow(data) * (max(data$Max_BPM) - min(data$Max_BPM)) / 30)), color = \"red\", linewidth = 1) +  \n",
    "  labs(title = \"Distribution du max BPM\", x = \"Max BPM\", y = \"Densité\") +  \n",
    "  theme_minimal()  \n",
    "hist_fat_p = ggplot(data, aes(x = Fat_Percentage)) +\n",
    "  geom_histogram(aes(y = after_stat(count)),bins = 30, fill = \"skyblue\", color = \"black\", alpha = 0.7) +   \n",
    "  geom_density(aes(y = after_stat(density * nrow(data) * (max(data$Fat_Percentage) - min(data$Fat_Percentage)) / 30)), color = \"red\", linewidth = 1) +  \n",
    "  labs(title = \"Distribution du pourcentage de grossesse\", x = \"Pourcentage de grossesse\", y = \"Densité\") +  \n",
    "  theme_minimal() \n",
    "options(repr.plot.width = 18, repr.plot.height = 16)\n",
    "grid.arrange(hist_age, hist_weight, hist_fat_p, hist_Max_BPM, \n",
    "             ncol = 2, nrow = 2)   \n"
   ]
  },
  {
   "cell_type": "markdown",
   "id": "1356b99b-6729-4309-96ce-7a4ce0c77ecd",
   "metadata": {},
   "source": [
    "**La médiane, l’étendue interquartile et d’éventuels outliers**"
   ]
  },
  {
   "cell_type": "code",
   "execution_count": 54,
   "id": "2ae055b3-a958-456f-b280-d14e2c1f1299",
   "metadata": {},
   "outputs": [
    {
     "data": {
      "image/png": "[encoded data removed]",
      "text/plain": [
       "plot without title"
      ]
     },
     "metadata": {
      "image/png": {
       "height": 600,
       "width": 1080
      }
     },
     "output_type": "display_data"
    }
   ],
   "source": [
    "box_cols = c(\"Age\", \"Weight..kg.\", \"Max_BPM\", \"Fat_Percentage\", \"BMI\" )\n",
    "\n",
    "num_long <- num[box_cols] %>% \n",
    "  pivot_longer( cols = everything(), names_to = \"Variable\", values_to = \"Valeur\")\n",
    "options(repr.plot.width = 18, repr.plot.height = 10)\n",
    "\n",
    "ggplot(num_long, aes(x = Variable, y = Valeur)) +\n",
    "  geom_boxplot(\n",
    "    fill = \"lightblue\", \n",
    "    color = \"black\", \n",
    "    outlier.shape = NA\n",
    "  ) +  \n",
    "  geom_jitter(width = 0.2, alpha = 0.5, color = \"darkred\", size = 1.5 ) +\n",
    "  labs( title = \"Distribution des variables\", x = \"\", y = \"Valeurs\" ) +\n",
    "  theme_minimal() +\n",
    "  theme(axis.text.x = element_text(angle = 45, hjust = 1))  "
   ]
  },
  {
   "cell_type": "markdown",
   "id": "d1771515-213a-4f06-81a4-af79df9ec989",
   "metadata": {},
   "source": [
    "- **Test de la normalité**"
   ]
  },
  {
   "cell_type": "code",
   "execution_count": 56,
   "id": "c4d5935e-8fc0-455a-b800-1403f4f39d60",
   "metadata": {},
   "outputs": [
    {
     "name": "stdout",
     "output_type": "stream",
     "text": [
      "[1] \"P-valeur de le test de Shapiro avec la variable  Age : 1.46785906271979e-17\"\n",
      "[1] \"P-valeur de le test de Shapiro avec la variable  Weight..kg. : 6.71695149569448e-19\"\n",
      "[1] \"P-valeur de le test de Shapiro avec la variable  Height..m. : 2.1587709686282e-13\"\n",
      "[1] \"P-valeur de le test de Shapiro avec la variable  Max_BPM : 6.42339692841957e-17\"\n",
      "[1] \"P-valeur de le test de Shapiro avec la variable  Avg_BPM : 4.82916062930109e-17\"\n",
      "[1] \"P-valeur de le test de Shapiro avec la variable  Resting_BPM : 1.13008435558791e-17\"\n",
      "[1] \"P-valeur de le test de Shapiro avec la variable  Session_Duration..hours. : 3.50874865325256e-08\"\n",
      "[1] \"P-valeur de le test de Shapiro avec la variable  Calories_Burned : 2.98249297630421e-05\"\n",
      "[1] \"P-valeur de le test de Shapiro avec la variable  Fat_Percentage : 6.90289911678495e-18\"\n",
      "[1] \"P-valeur de le test de Shapiro avec la variable  Water_Intake..liters. : 8.09672404832902e-17\"\n",
      "[1] \"P-valeur de le test de Shapiro avec la variable  BMI : 1.43964092930437e-14\"\n"
     ]
    }
   ],
   "source": [
    "for (col in num_cols){\n",
    "    print(paste(\"P-valeur de le test de Shapiro avec la variable \", col, \":\" , shapiro.test(num[,col])$p.value))\n",
    "}\n"
   ]
  },
  {
   "cell_type": "markdown",
   "id": "1fbf8e75-ac5e-4d04-a18a-f4997b3fe980",
   "metadata": {},
   "source": [
    "$\\rightarrow$ Au niveau 5%, tous les variables quantitatives ne suivent pas la loi normale"
   ]
  },
  {
   "cell_type": "markdown",
   "id": "0e5be5ee-00bd-4845-b6bb-ac9fe3ec9b71",
   "metadata": {},
   "source": [
    "### <FONT COLOR=\"Orange\">2.2. Variables qualitatives</font>"
   ]
  },
  {
   "cell_type": "code",
   "execution_count": 58,
   "id": "2b1af89e-b876-418a-9a12-0947b02b4e12",
   "metadata": {},
   "outputs": [
    {
     "data": {
      "image/png": "[encoded data removed]",
      "text/plain": [
       "plot without title"
      ]
     },
     "metadata": {
      "image/png": {
       "height": 600,
       "width": 1080
      }
     },
     "output_type": "display_data"
    }
   ],
   "source": [
    "box_cat1 = ggplot(data, aes(x = Gender)) +\n",
    "  geom_bar(fill = \"lightblue\", color = \"black\") + \n",
    "  labs(title = \"Répartition par Genre\", x = \"Genre\", y = \"Effectif\")\n",
    "box_cat2 = ggplot(data, aes(x = Workout_Type)) +\n",
    "  geom_bar(fill = brewer.pal(9, \"Greens\")[4], color = \"black\") +  \n",
    "  labs(title = \"Répartition par Workout_Type\", x = \"Workout_Type\", y = \"Effectif\")\n",
    "box_cat3 = ggplot(data, aes(x = Workout_Frequency..days.week.)) +\n",
    "  geom_bar(fill = brewer.pal(9, \"Greys\")[4], color = \"black\") +  \n",
    "  labs(title = \"Répartition par Workout_Frequency..days.week.\", x = \"Workout_Frequency..days.week.\", y = \"Effectif\")\n",
    "box_cat4 = ggplot(data, aes(x = Experience_Level)) +\n",
    "  geom_bar(fill = brewer.pal(9, \"Reds\")[4], color = \"black\") +  \n",
    "  labs(title = \"Répartition par Experience_Level\", x = \"Experience_Level\", y = \"Effectif\")\n",
    "options(repr.plot.width = 18, repr.plot.height = 10)\n",
    "\n",
    "grid.arrange(box_cat1,box_cat2, box_cat3, box_cat4, ncol = 2)"
   ]
  },
  {
   "cell_type": "markdown",
   "id": "db8bd74f-f875-4f7d-b004-58b578171b7c",
   "metadata": {},
   "source": [
    "## <FONT COLOR=\"Orange\">3. Analyse descriptive bidimensionnelle</font>"
   ]
  },
  {
   "cell_type": "markdown",
   "id": "61f6983b-73d9-4ade-b665-6ed9515e69c4",
   "metadata": {},
   "source": [
    "### <FONT COLOR=\"Blue\">3.1. Variable quantitative vs variable quantitative</font>"
   ]
  },
  {
   "cell_type": "code",
   "execution_count": 60,
   "id": "2b9d6ae3-7c4f-4354-b91e-88d78ba78168",
   "metadata": {},
   "outputs": [
    {
     "data": {
      "image/png": "[encoded data removed]",
      "text/plain": [
       "plot without title"
      ]
     },
     "metadata": {
      "image/png": {
       "height": 600,
       "width": 1080
      }
     },
     "output_type": "display_data"
    }
   ],
   "source": [
    "options(repr.plot.width = 18, repr.plot.height = 10)\n",
    "scat1 = ggplot(data = data, aes(x = Weight..kg., y = BMI, color = Age))+\n",
    "        geom_point(size = 2.5)+\n",
    "        labs(x = \"Poids\", y = \"BMI\")+\n",
    "        scale_colour_gradientn(colours=rainbow(4))+\n",
    "        theme_minimal()\n",
    "scat2 = ggplot(data = data)+\n",
    "        geom_point(aes(x = Water_Intake..liters., y = Fat_Percentage, color = Calories_Burned ),size = 2.5)+\n",
    "        labs(x = \"Litres/Jour\", y = \"Gros pourcentage\")+\n",
    "        scale_colour_gradientn(colours=rainbow(4))+\n",
    "        theme_minimal()\n",
    "grid.arrange(scat1, scat2, ncol = 2)"
   ]
  },
  {
   "cell_type": "markdown",
   "id": "ede06637-eaa4-4837-bb01-5f3f13f3eb8c",
   "metadata": {},
   "source": [
    "- **Corrélation graphe**"
   ]
  },
  {
   "cell_type": "code",
   "execution_count": null,
   "id": "a404a603-9bd1-4040-b59e-7cf0ad46a39e",
   "metadata": {},
   "outputs": [],
   "source": [
    "options(repr.plot.width = 12, repr.plot.height = 10)\n",
    "\n",
    "ggcorrplot(cor(num), \n",
    "           method = \"square\",\n",
    "           type = \"lower\",\n",
    "           lab = TRUE,\n",
    "           colors = c(\"blue\", \"white\", \"red\"),\n",
    "           outline.color = \"black\",\n",
    "           tl.cex = 10)"
   ]
  },
  {
   "cell_type": "code",
   "execution_count": null,
   "id": "7b78b839-9d11-49d2-9cb5-273833524ae6",
   "metadata": {},
   "outputs": [],
   "source": [
    "options(repr.plot.width = 12, repr.plot.height = 10)\n",
    "ggpairs(num)"
   ]
  },
  {
   "cell_type": "markdown",
   "id": "febacc4c-b6f7-4832-9d44-6e2954bfced7",
   "metadata": {},
   "source": [
    "Nous obvervons que *Height..m.*, *Height..m.*, avec les variables de BPM sont bien indépendants. Alors que, *Height..m.* et *BMI* ou *Session_Duration..hours.* et *Calories_Burned* sont fortement corrélées."
   ]
  },
  {
   "cell_type": "markdown",
   "id": "6e692ad1-f95e-4e08-b8db-77dd954d121b",
   "metadata": {},
   "source": [
    "### <FONT COLOR=\"Blue\">3.2 Variable qualitative vs variable qualitative</font>"
   ]
  },
  {
   "cell_type": "code",
   "execution_count": null,
   "id": "fdd621ec-e655-4181-ae3d-4929f7aa9191",
   "metadata": {},
   "outputs": [],
   "source": [
    "mos1 = ggplot(data = data)+\n",
    "geom_mosaic(aes(x = product(Gender,Workout_Frequency..days.week.), fill = Gender))+\n",
    "labs(x = \"Fréquence par semaine\", y = \"Sexe\")\n",
    "mos2 = ggplot(data = data)+\n",
    "geom_mosaic(aes(x = product(Workout_Type ,Workout_Frequency..days.week.), fill = Workout_Type ))+\n",
    "labs(x = \"Fréquence par semaine\", y = \"Type d'excercise\")\n",
    "options(repr.plot.width = 18, repr.plot.height = 10)\n",
    "grid.arrange(mos1, mos2, ncol = 2)"
   ]
  },
  {
   "cell_type": "markdown",
   "id": "08922041-992c-47f4-9a88-c162ac99762a",
   "metadata": {},
   "source": [
    "### <FONT COLOR=\"Blue\">3.3. Variable qualitative vs variable quantitative</font>"
   ]
  },
  {
   "cell_type": "code",
   "execution_count": null,
   "id": "f179570a-9c95-46b5-85db-2e73c0101a09",
   "metadata": {},
   "outputs": [],
   "source": [
    "box2 = ggplot(data)+\n",
    "geom_boxplot(aes(x = Workout_Frequency..days.week., y = Fat_Percentage), fill = \"lightblue\")+\n",
    "theme_minimal()\n",
    "box1 = ggplot(data)+\n",
    "geom_boxplot(aes(x = Workout_Type , y = Calories_Burned  ), fill = \"lightblue\")+\n",
    "theme_minimal()\n",
    "\n",
    "grid.arrange(box1,box2, ncol = 2)"
   ]
  },
  {
   "cell_type": "markdown",
   "id": "41a2445b-1519-44cb-91d8-f2470c65d60c",
   "metadata": {},
   "source": [
    "## <FONT COLOR=\"Orange\">4. Analyse composants principales des variables quantitatives</font>"
   ]
  },
  {
   "cell_type": "code",
   "execution_count": null,
   "id": "7634b617-1080-403f-a368-8b2c931d5728",
   "metadata": {},
   "outputs": [],
   "source": [
    "pca_cols = append('Gender' ,num_cols)"
   ]
  },
  {
   "cell_type": "code",
   "execution_count": null,
   "id": "2146a096-a31e-4f45-a2fb-42d06120568a",
   "metadata": {},
   "outputs": [],
   "source": [
    "res.pca = PCA(data[,pca_cols], scale.unit = TRUE, graph = FALSE, quali.sup =1, ncp = ncol(num) )\n",
    "summary(res.pca)"
   ]
  },
  {
   "cell_type": "code",
   "execution_count": null,
   "id": "76ff3e3c-16f2-4e98-8c78-59ada56dad8e",
   "metadata": {},
   "outputs": [],
   "source": [
    "eig_p = fviz_eig(res.pca, addlabels = TRUE)\n",
    "cont_p12 = fviz_contrib(res.pca, choice = 'var', axes = c(1,2), fill = brewer.pal(5, \"Blues\")[2])\n",
    "cont_p23 = fviz_contrib(res.pca, choice = 'var', axes = c(2,3),fill = brewer.pal(5, \"Blues\")[2])\n",
    "cont_p13 = fviz_contrib(res.pca, choice = 'var', axes = c(1,3),fill = brewer.pal(5, \"Blues\")[2])\n",
    "options(repr.plot.width = 18, repr.plot.height = 18)\n",
    "grid.arrange(eig_p, cont_p12,cont_p23, cont_p13, ncol = 2)"
   ]
  },
  {
   "cell_type": "code",
   "execution_count": null,
   "id": "6cdf16b4-0abf-4817-850f-53c9c56219cd",
   "metadata": {},
   "outputs": [],
   "source": [
    "cos12 = fviz_cos2(res.pca, choice = 'var', fill =brewer.pal(3, \"Set3\")[3], axes = c(1,2))\n",
    "cos13 = fviz_cos2(res.pca, choice = 'var', fill =brewer.pal(3, \"Set3\")[3], axes = c(1,3))\n",
    "cos23 = fviz_cos2(res.pca, choice = 'var', fill =brewer.pal(3, \"Set3\")[3], axes = c(2,3))\n",
    "cos14 = fviz_cos2(res.pca, choice = 'var', fill =brewer.pal(3, \"Set3\")[3], axes = c(1,4))\n",
    "options(repr.plot.width = 18, repr.plot.height = 18)\n",
    "grid.arrange(cos12, cos13,cos23, cos14, ncol = 2, nrow = 2)"
   ]
  },
  {
   "cell_type": "code",
   "execution_count": null,
   "id": "dad83aef-391a-4d96-b07b-d4154c28b151",
   "metadata": {},
   "outputs": [],
   "source": [
    "pca_var = fviz_pca_var(res.pca ,col.var  ='contrib')\n",
    "bi_plot = fviz_pca_biplot(res.pca, habillage = data$Gender, label = 'none')\n",
    "options(repr.plot.width = 18, repr.plot.height = 9)\n",
    "grid.arrange(pca_var, bi_plot, ncol = 2 )"
   ]
  },
  {
   "cell_type": "code",
   "execution_count": null,
   "id": "2abb0fe4-878c-46fc-b2c4-872d1b3faa1f",
   "metadata": {},
   "outputs": [],
   "source": [
    "display.brewer.all()\n",
    "brewer.pal(5, \"Blues\")"
   ]
  },
  {
   "cell_type": "markdown",
   "id": "05a8e50e-fc48-427c-88aa-887445b33998",
   "metadata": {},
   "source": [
    "# <FONT COLOR=\"Green\">Partie II: Modélisation</font>"
   ]
  },
  {
   "cell_type": "markdown",
   "id": "4a5ec4c7-c3d5-4414-9c01-4bd2f8263a88",
   "metadata": {
    "jp-MarkdownHeadingCollapsed": true
   },
   "source": [
    "## <FONT COLOR=\"Orange\">Preprocessing</font>"
   ]
  },
  {
   "cell_type": "markdown",
   "id": "4e5d72fd-59a7-4d0c-93c1-ffcf69179e6a",
   "metadata": {},
   "source": [
    "- **Transformation les variables**"
   ]
  },
  {
   "cell_type": "code",
   "execution_count": null,
   "id": "87c844f8-4b19-405f-b095-57ba1d17319b",
   "metadata": {},
   "outputs": [],
   "source": [
    "summary(data)"
   ]
  },
  {
   "cell_type": "markdown",
   "id": "8732889c-4eea-4544-a67b-66cab3ddd0b6",
   "metadata": {},
   "source": [
    "On peut observer que:\n",
    "- Weight..kg. : Median (70.00) <<  Mean (73.85) => log\n",
    "- Calories_Burned: Median (893.0) < Mean (905.4) => sqrt\n",
    "- BMI:  Max. (49.84) >> 3rd Qu.(28.56) => log\n",
    "- Fat_Percentage: Median (26.20) > Mean (24.98) => ^2\n"
   ]
  },
  {
   "cell_type": "code",
   "execution_count": 7,
   "id": "8db906f1-4a9a-4ef4-8253-5f23935d9d7e",
   "metadata": {},
   "outputs": [],
   "source": [
    "data[, \"Weight..kg.\"] = log(data[, \"Weight..kg.\"])\n",
    "colnames(data)[colnames(data) == \"Weight..kg.\"] <- \"L_Weight..kg.\"\n",
    "data[, \"BMI\"] = log(data[, \"BMI\"])\n",
    "colnames(data)[colnames(data) == \"BMI\"] <- \"L_BMI\"\n",
    "data[, \"Calories_Burned\"] = sqrt(data[, \"Calories_Burned\"])\n",
    "colnames(data)[colnames(data) == \"Calories_Burned\"] <- \"S_Calories_Burned\"\n",
    "data[, \"Fat_Percentage\"] = (data[, \"Fat_Percentage\"])^2\n",
    "colnames(data)[colnames(data) == \"Fat_Percentage\"] <- \"C_Fat_Percentage\""
   ]
  },
  {
   "cell_type": "code",
   "execution_count": 64,
   "id": "4da3a9b5-c494-493a-af68-d547c7a0f41b",
   "metadata": {},
   "outputs": [
    {
     "data": {
      "text/plain": [
       "      Age           Gender    L_Weight..kg.     Height..m.       Max_BPM     \n",
       " Min.   :18.00   Female:462   Min.   :3.689   Min.   :1.500   Min.   :160.0  \n",
       " 1st Qu.:28.00   Male  :511   1st Qu.:4.062   1st Qu.:1.620   1st Qu.:170.0  \n",
       " Median :40.00                Median :4.248   Median :1.710   Median :180.0  \n",
       " Mean   :38.68                Mean   :4.263   Mean   :1.723   Mean   :179.9  \n",
       " 3rd Qu.:49.00                3rd Qu.:4.454   3rd Qu.:1.800   3rd Qu.:190.0  \n",
       " Max.   :59.00                Max.   :4.867   Max.   :2.000   Max.   :199.0  \n",
       "    Avg_BPM       Resting_BPM    Session_Duration..hours. S_Calories_Burned\n",
       " Min.   :120.0   Min.   :50.00   Min.   :0.500            Min.   :17.41    \n",
       " 1st Qu.:131.0   1st Qu.:56.00   1st Qu.:1.040            1st Qu.:26.83    \n",
       " Median :143.0   Median :62.00   Median :1.260            Median :29.88    \n",
       " Mean   :143.8   Mean   :62.22   Mean   :1.256            Mean   :29.74    \n",
       " 3rd Qu.:156.0   3rd Qu.:68.00   3rd Qu.:1.460            3rd Qu.:32.80    \n",
       " Max.   :169.0   Max.   :74.00   Max.   :2.000            Max.   :42.23    \n",
       "   Workout_Type C_Fat_Percentage Water_Intake..liters.\n",
       " Cardio  :255   Min.   : 100.0   Min.   :1.500        \n",
       " HIIT    :221   1st Qu.: 453.7   1st Qu.:2.200        \n",
       " Strength:258   Median : 686.4   Median :2.600        \n",
       " Yoga    :239   Mean   : 663.0   Mean   :2.627        \n",
       "                3rd Qu.: 858.5   3rd Qu.:3.100        \n",
       "                Max.   :1225.0   Max.   :3.700        \n",
       " Workout_Frequency..days.week. Experience_Level     L_BMI      \n",
       " 2:197                         1:376            Min.   :2.511  \n",
       " 3:368                         2:406            1st Qu.:3.001  \n",
       " 4:306                         3:191            Median :3.185  \n",
       " 5:102                                          Mean   :3.181  \n",
       "                                                3rd Qu.:3.352  \n",
       "                                                Max.   :3.909  "
      ]
     },
     "metadata": {},
     "output_type": "display_data"
    }
   ],
   "source": [
    "summary(data)"
   ]
  },
  {
   "cell_type": "markdown",
   "id": "6d3629a3-6549-4c51-b3a4-aad25567b67a",
   "metadata": {},
   "source": [
    "- **Diviser l'ensemble de l'entrainement et évaluation**"
   ]
  },
  {
   "cell_type": "code",
   "execution_count": 9,
   "id": "9b400ca0-d06a-4de2-bba2-2572d836c92e",
   "metadata": {},
   "outputs": [],
   "source": [
    "set.seed(99)\n",
    "train_test_split <- function(data, test_ratio){\n",
    "    n_lignes = nrow(data)\n",
    "    n_lignes_test = ceiling(n_lignes*test_ratio)\n",
    "    \n",
    "    lignes_test = sample(1:n_lignes, n_lignes_test)\n",
    "    lignes_train = setdiff(1:n_lignes , lignes_test)\n",
    "    return(list(train = data[lignes_train, ], test = data[lignes_test, ]))\n",
    "    }\n",
    "loss_mse_calo <- function(model, test_data){\n",
    "    pred = predict(model, newdata  = test_data)\n",
    "    mse = sqrt(sum((pred - test_data$S_Calories_Burned)^2))\n",
    "    return (mse)\n",
    "}\n",
    "# preprocessing, train test split\n",
    "scaled_data = data\n",
    "scaled_data[,c(1,3:9,11:12,15)] = scale(scaled_data[,c(1,3:9,11:12,15)])\n",
    "splited_data = train_test_split(scaled_data, 0.2)\n",
    "train = splited_data$train\n",
    "test = splited_data$test\n"
   ]
  },
  {
   "cell_type": "markdown",
   "id": "7ca9cfa0-3d71-49b3-8fbe-c594b6d59f1b",
   "metadata": {},
   "source": [
    "## <FONT COLOR=\"Orange\">A. Prédiction des calories brûlées</font>"
   ]
  },
  {
   "cell_type": "markdown",
   "id": "e87b312d-f862-4fd7-bad9-d9469801a055",
   "metadata": {},
   "source": [
    "### <FONT COLOR=\"Gray\">1. Modèles simples</font>"
   ]
  },
  {
   "cell_type": "markdown",
   "id": "5bd374dd-bea8-426e-a6f8-3c3479fddfdc",
   "metadata": {},
   "source": [
    "#### <FONT COLOR=\"Blue\">1.1. Régression linéaire</font>"
   ]
  },
  {
   "cell_type": "markdown",
   "id": "979967d0-56a9-4a67-ba34-e81978b5f006",
   "metadata": {},
   "source": [
    "Dans cette partie là, on essaye d'utiliser le régression linéaire, puis on cherche le meilleur model entre les model régression linéaire en utilisant les méthode de model selection "
   ]
  },
  {
   "cell_type": "markdown",
   "id": "f33454fc-2293-4aae-a530-f65b437e0c9d",
   "metadata": {},
   "source": [
    "- **Modèles linéaires moindres carrés avec sélection de variable par critère AIC**"
   ]
  },
  {
   "cell_type": "code",
   "execution_count": 70,
   "id": "61c755e0-efac-4612-9397-f916c041caad",
   "metadata": {},
   "outputs": [],
   "source": [
    "# Entrainement des models\n",
    "lm_model_no_i = lm(S_Calories_Burned ~ ., data = train)\n",
    "lm_model_i = lm(S_Calories_Burned ~ .^2, data = train)\n",
    "\n",
    "\n",
    "#Variables sélection par AIC\n",
    "lm_AIC_no_i = stepAIC(lm_model_no_i, direction = \"both\", trace = FALSE)\n",
    "lm_AIC_i = stepAIC(lm_model_i, direction = \"both\", trace = FALSE)"
   ]
  },
  {
   "cell_type": "code",
   "execution_count": 71,
   "id": "d5857b13-6b69-4a8b-b636-46c5915f0478",
   "metadata": {},
   "outputs": [
    {
     "data": {
      "text/html": [
       "<table class=\"dataframe\">\n",
       "<caption>A anova: 2 × 6</caption>\n",
       "<thead>\n",
       "\t<tr><th></th><th scope=col>Res.Df</th><th scope=col>RSS</th><th scope=col>Df</th><th scope=col>Sum of Sq</th><th scope=col>F</th><th scope=col>Pr(&gt;F)</th></tr>\n",
       "\t<tr><th></th><th scope=col>&lt;dbl&gt;</th><th scope=col>&lt;dbl&gt;</th><th scope=col>&lt;dbl&gt;</th><th scope=col>&lt;dbl&gt;</th><th scope=col>&lt;dbl&gt;</th><th scope=col>&lt;dbl&gt;</th></tr>\n",
       "</thead>\n",
       "<tbody>\n",
       "\t<tr><th scope=row>1</th><td>758</td><td>11.504750</td><td>NA</td><td>      NA</td><td>      NA</td><td>          NA</td></tr>\n",
       "\t<tr><th scope=row>2</th><td>710</td><td> 5.729178</td><td>48</td><td>5.775571</td><td>14.91144</td><td>1.697296e-78</td></tr>\n",
       "</tbody>\n",
       "</table>\n"
      ],
      "text/latex": [
       "A anova: 2 × 6\n",
       "\\begin{tabular}{r|llllll}\n",
       "  & Res.Df & RSS & Df & Sum of Sq & F & Pr(>F)\\\\\n",
       "  & <dbl> & <dbl> & <dbl> & <dbl> & <dbl> & <dbl>\\\\\n",
       "\\hline\n",
       "\t1 & 758 & 11.504750 & NA &       NA &       NA &           NA\\\\\n",
       "\t2 & 710 &  5.729178 & 48 & 5.775571 & 14.91144 & 1.697296e-78\\\\\n",
       "\\end{tabular}\n"
      ],
      "text/markdown": [
       "\n",
       "A anova: 2 × 6\n",
       "\n",
       "| <!--/--> | Res.Df &lt;dbl&gt; | RSS &lt;dbl&gt; | Df &lt;dbl&gt; | Sum of Sq &lt;dbl&gt; | F &lt;dbl&gt; | Pr(&gt;F) &lt;dbl&gt; |\n",
       "|---|---|---|---|---|---|---|\n",
       "| 1 | 758 | 11.504750 | NA |       NA |       NA |           NA |\n",
       "| 2 | 710 |  5.729178 | 48 | 5.775571 | 14.91144 | 1.697296e-78 |\n",
       "\n"
      ],
      "text/plain": [
       "  Res.Df RSS       Df Sum of Sq F        Pr(>F)      \n",
       "1 758    11.504750 NA       NA        NA           NA\n",
       "2 710     5.729178 48 5.775571  14.91144 1.697296e-78"
      ]
     },
     "metadata": {},
     "output_type": "display_data"
    }
   ],
   "source": [
    "#Comparaisons entre les models \n",
    "anova(lm_model_no_i, lm_AIC_i)"
   ]
  },
  {
   "cell_type": "code",
   "execution_count": 72,
   "id": "030dd9c7-407b-4753-b7b4-6f07e14de035",
   "metadata": {},
   "outputs": [
    {
     "name": "stdout",
     "output_type": "stream",
     "text": [
      "[1] \"Loss MSE de model sans intéractions (avant AIC):  1.70313902074827\"\n",
      "[1] \"Loss MSE de model sans intéractions (apres AIC):  1.67629012038689\"\n",
      "[1] \"Loss MSE de model avec intéractions (avant AIC):  1.5308581564169\"\n",
      "[1] \"Loss MSE de model avec intéractions (apres AIC):  1.47995108534388\"\n"
     ]
    }
   ],
   "source": [
    "print(paste( \"Loss MSE de model sans intéractions (avant AIC): \", loss_mse_calo(lm_model_no_i, test)))\n",
    "print(paste( \"Loss MSE de model sans intéractions (apres AIC): \", loss_mse_calo(lm_AIC_no_i, test)))\n",
    "print(paste( \"Loss MSE de model avec intéractions (avant AIC): \", loss_mse_calo(lm_model_i, test)))\n",
    "print(paste( \"Loss MSE de model avec intéractions (apres AIC): \", loss_mse_calo(lm_AIC_i, test)))"
   ]
  },
  {
   "cell_type": "code",
   "execution_count": 73,
   "id": "9b4899f0-0c16-4038-a2dd-333063f11417",
   "metadata": {},
   "outputs": [],
   "source": [
    "lm_AIC = lm_AIC_i"
   ]
  },
  {
   "cell_type": "markdown",
   "id": "e07cbeba-3681-4fb5-9511-25abde06cf44",
   "metadata": {},
   "source": [
    "- **Modèles linéaires régularisation L1 (LASSO) avec sélection de variable par validation croisée**"
   ]
  },
  {
   "cell_type": "code",
   "execution_count": 50,
   "id": "d4588400-e6ac-4c4c-8c5d-d5ab4a44305b",
   "metadata": {},
   "outputs": [
    {
     "data": {
      "text/html": [
       "1.67658617474107"
      ],
      "text/latex": [
       "1.67658617474107"
      ],
      "text/markdown": [
       "1.67658617474107"
      ],
      "text/plain": [
       "[1] 1.676586"
      ]
     },
     "metadata": {},
     "output_type": "display_data"
    },
    {
     "data": {
      "text/html": [
       "1.41924245365688"
      ],
      "text/latex": [
       "1.41924245365688"
      ],
      "text/markdown": [
       "1.41924245365688"
      ],
      "text/plain": [
       "[1] 1.419242"
      ]
     },
     "metadata": {},
     "output_type": "display_data"
    }
   ],
   "source": [
    "loss_mse_glm_calo <- function(model, xdata, data){\n",
    "    pred = predict(model, newx = xdata)\n",
    "    return (sqrt(sum((pred- data$S_Calories_Burned)^2)))\n",
    "}\n",
    "# Encoder les variables qualitatives d'entrainement et de validation ensembles\n",
    "x.mat_no_i <- model.matrix(S_Calories_Burned ~ . - 1, data = train)\n",
    "x.mat_i <- model.matrix(S_Calories_Burned ~ .^2 - 1, data = train)\n",
    "x.mat_no_i_test <- model.matrix(S_Calories_Burned ~ . - 1, data = test)\n",
    "x.mat_i_test <- model.matrix(S_Calories_Burned ~ .^2 - 1, data = test)\n",
    "\n",
    "# Identification les hypers marametres optimaux\n",
    "reg.lasso.cv_no_i <- cv.glmnet(y = train$S_Calories_Burned, x = x.mat_no_i)\n",
    "reg.lasso.cv_i <- cv.glmnet(y = train$S_Calories_Burned, x = x.mat_i)\n",
    "lamb_min_no_i = reg.lasso.cv_no_i$lambda.min\n",
    "lamb_min_i = reg.lasso.cv_i$lambda.min\n",
    "\n",
    "# Entrainement avec des hypers parametres optimaux\n",
    "lm_lasso_no_i = glmnet( y = train$S_Calories_Burned, x = x.mat_no_i, lambda = reg.lasso.cv_no_i$lambda.min)\n",
    "lm_lasso_i = glmnet( y = train$S_Calories_Burned, x = x.mat_i, lambda = reg.lasso.cv_i$lambda.min)\n",
    "\n",
    "# Comparaison les models\n",
    "loss_mse_glm_calo(lm_lasso_no_i, x.mat_no_i_test, test)\n",
    "loss_mse_glm_calo(lm_lasso_i, x.mat_i_test, test)"
   ]
  },
  {
   "cell_type": "code",
   "execution_count": null,
   "id": "72870521-f684-4150-8ae9-5efb33480e17",
   "metadata": {},
   "outputs": [],
   "source": [
    "#options(repr.plot.width = 18, repr.plot.height = 10)\n",
    "#plot(reg.lasso.cv_no_i, xvar = \"lambda\", label = TRUE)\n",
    "#legend(\"topright\", \n",
    "#       legend = paste(1:ncol(x.mat), \" - \", colnames(x.mat)))\n",
    "#options(repr.plot.width = 18, repr.plot.height = 10)\n",
    "#autoplot(reg.lasso.cv_no_i)"
   ]
  },
  {
   "cell_type": "code",
   "execution_count": 77,
   "id": "0f3ecd5c-d53b-4c6d-adc6-039299dc0c61",
   "metadata": {},
   "outputs": [],
   "source": [
    "lm_lasso = lm_lasso_i"
   ]
  },
  {
   "cell_type": "markdown",
   "id": "022d6dd2-1fd3-4218-a991-cc9ff117c1c8",
   "metadata": {},
   "source": [
    "- **Modèles linéaires régularisation L2 (Ridge) avec sélection de variable par validation croisée**\n"
   ]
  },
  {
   "cell_type": "code",
   "execution_count": 79,
   "id": "c1472eff-5538-49de-83d9-28bc68a67859",
   "metadata": {},
   "outputs": [
    {
     "data": {
      "text/html": [
       "2.34536019690386"
      ],
      "text/latex": [
       "2.34536019690386"
      ],
      "text/markdown": [
       "2.34536019690386"
      ],
      "text/plain": [
       "[1] 2.34536"
      ]
     },
     "metadata": {},
     "output_type": "display_data"
    },
    {
     "data": {
      "text/html": [
       "2.70441338487599"
      ],
      "text/latex": [
       "2.70441338487599"
      ],
      "text/markdown": [
       "2.70441338487599"
      ],
      "text/plain": [
       "[1] 2.704413"
      ]
     },
     "metadata": {},
     "output_type": "display_data"
    }
   ],
   "source": [
    "# Identification les hypers marametres optimaux\n",
    "reg.ridge.cv_no_i <- cv.glmnet(y = train$S_Calories_Burned, x = x.mat_no_i, alpha = 0)\n",
    "reg.ridge.cv_i <- cv.glmnet(y = train$S_Calories_Burned, x = x.mat_i, alpha =0)\n",
    "\n",
    "# Entrainement avec des hypers parametres optimaux\n",
    "lm_ridge_no_i = glmnet( y = train$S_Calories_Burned, x = x.mat_no_i, lambda = reg.ridge.cv_no_i$lambda.min, alpha = 0)\n",
    "lm_ridge_i = glmnet( y = train$S_Calories_Burned, x = x.mat_i, lambda = reg.ridge.cv_i$lambda.min, alpha = 0)\n",
    "\n",
    "# Comparaison les models\n",
    "loss_mse_glm_calo(lm_ridge_no_i, x.mat_no_i_test, test)\n",
    "loss_mse_glm_calo(lm_ridge_i, x.mat_i_test, test)"
   ]
  },
  {
   "cell_type": "code",
   "execution_count": 81,
   "id": "c8635544-8d1d-4f8c-8b22-17edb1599a02",
   "metadata": {},
   "outputs": [],
   "source": [
    "lm_ridge = lm_ridge_i"
   ]
  },
  {
   "cell_type": "markdown",
   "id": "71509b55-3229-487e-b660-3ff2b3525ad3",
   "metadata": {},
   "source": [
    "- **Modèles linéaires régularisation L1 + L2 (Elastic Net) avec sélection de variable par validation croisée**"
   ]
  },
  {
   "cell_type": "code",
   "execution_count": 83,
   "id": "9e6a36b1-cf45-46db-95b9-39a257a538c1",
   "metadata": {},
   "outputs": [
    {
     "data": {
      "text/html": [
       "1.67897914051552"
      ],
      "text/latex": [
       "1.67897914051552"
      ],
      "text/markdown": [
       "1.67897914051552"
      ],
      "text/plain": [
       "[1] 1.678979"
      ]
     },
     "metadata": {},
     "output_type": "display_data"
    },
    {
     "data": {
      "text/html": [
       "1.42547554624055"
      ],
      "text/latex": [
       "1.42547554624055"
      ],
      "text/markdown": [
       "1.42547554624055"
      ],
      "text/plain": [
       "[1] 1.425476"
      ]
     },
     "metadata": {},
     "output_type": "display_data"
    }
   ],
   "source": [
    "alpha_values <- seq(0, 1, by = 0.1)\n",
    "lambda_values <- 10^seq(2, -3, by = -0.001)\n",
    "\n",
    "# Initialisation des variables pour stocker les résultats\n",
    "cv_errors_no_i <- matrix(NA, nrow = length(lambda_values), ncol = length(alpha_values),\n",
    "                    dimnames = list(lambda_values, alpha_values))\n",
    "cv_errors_i <- matrix(NA, nrow = length(lambda_values), ncol = length(alpha_values),\n",
    "                    dimnames = list(lambda_values, alpha_values))\n",
    "# Boucle sur les valeurs de alpha et lambda\n",
    "for (alpha in alpha_values) {\n",
    "  cv_model_no_i <- cv.glmnet(x= x.mat_no_i, y = train$S_Calories_Burned, alpha = alpha, lambda = lambda_values)\n",
    "  cv_model_i <- cv.glmnet(x= x.mat_i, y = train$S_Calories_Burned, alpha = alpha, lambda = lambda_values)\n",
    "    \n",
    "  cv_errors_no_i[, as.character(alpha)] <- cv_model_no_i$cvm\n",
    "  cv_errors_i[, as.character(alpha)] <- cv_model_i$cvm\n",
    "    \n",
    "}\n",
    "\n",
    "# Identification des paramètres optimaux\n",
    "min_error_no_i <- min(cv_errors_no_i)\n",
    "min_error_i <- min(cv_errors_i)\n",
    "\n",
    "optimal_indices_no_i <- which(cv_errors_no_i == min_error_no_i, arr.ind = TRUE)\n",
    "optimal_alpha_no_i <- as.numeric(colnames(cv_errors_no_i)[optimal_indices_no_i[1, 2]])\n",
    "optimal_lambda_no_i <- as.numeric(rownames(cv_errors_no_i)[optimal_indices_no_i[1, 1]])\n",
    "\n",
    "optimal_indices_i <- which(cv_errors_i == min_error_i, arr.ind = TRUE)\n",
    "optimal_alpha_i <- as.numeric(colnames(cv_errors_i)[optimal_indices_i[1, 2]])\n",
    "optimal_lambda_i <- as.numeric(rownames(cv_errors_i)[optimal_indices_i[1, 1]])\n",
    "\n",
    "# Entrainement avec des hypers parametres optimaux\n",
    "lm_elastic_no_i = glmnet( y = train$S_Calories_Burned, x = x.mat_no_i, lambda =optimal_lambda_no_i, alpha = optimal_alpha_no_i)\n",
    "lm_elastic_i = glmnet( y = train$S_Calories_Burned, x = x.mat_i, lambda =optimal_lambda_i, alpha = optimal_alpha_i)\n",
    "\n",
    "# Comparaison les models\n",
    "loss_mse_glm_calo(lm_elastic_no_i, x.mat_no_i_test, test)\n",
    "loss_mse_glm_calo(lm_elastic_i, x.mat_i_test, test)"
   ]
  },
  {
   "cell_type": "code",
   "execution_count": 84,
   "id": "e40e862a-4f82-4144-b955-989d652fa829",
   "metadata": {},
   "outputs": [],
   "source": [
    "lm_elastic = lm_elastic_i"
   ]
  },
  {
   "cell_type": "markdown",
   "id": "69d97bfe-dcb5-4f7f-b63d-aa5a31f7a35e",
   "metadata": {},
   "source": [
    "- **Comparaison les models régressions linéaires**"
   ]
  },
  {
   "cell_type": "code",
   "execution_count": 85,
   "id": "76d1d9cc-c768-4fdc-a988-81058a090da5",
   "metadata": {},
   "outputs": [
    {
     "data": {
      "text/html": [
       "<table class=\"dataframe\">\n",
       "<caption>A data.frame: 4 × 3</caption>\n",
       "<thead>\n",
       "\t<tr><th scope=col>Models</th><th scope=col>Coefficients</th><th scope=col>MSE</th></tr>\n",
       "\t<tr><th scope=col>&lt;chr&gt;</th><th scope=col>&lt;int&gt;</th><th scope=col>&lt;dbl&gt;</th></tr>\n",
       "</thead>\n",
       "<tbody>\n",
       "\t<tr><td>MC         </td><td> 68</td><td>1.479951</td></tr>\n",
       "\t<tr><td>LASSO      </td><td> 70</td><td>1.419242</td></tr>\n",
       "\t<tr><td>Ridge      </td><td>185</td><td>2.704413</td></tr>\n",
       "\t<tr><td>Elastic Net</td><td> 91</td><td>1.425476</td></tr>\n",
       "</tbody>\n",
       "</table>\n"
      ],
      "text/latex": [
       "A data.frame: 4 × 3\n",
       "\\begin{tabular}{lll}\n",
       " Models & Coefficients & MSE\\\\\n",
       " <chr> & <int> & <dbl>\\\\\n",
       "\\hline\n",
       "\t MC          &  68 & 1.479951\\\\\n",
       "\t LASSO       &  70 & 1.419242\\\\\n",
       "\t Ridge       & 185 & 2.704413\\\\\n",
       "\t Elastic Net &  91 & 1.425476\\\\\n",
       "\\end{tabular}\n"
      ],
      "text/markdown": [
       "\n",
       "A data.frame: 4 × 3\n",
       "\n",
       "| Models &lt;chr&gt; | Coefficients &lt;int&gt; | MSE &lt;dbl&gt; |\n",
       "|---|---|---|\n",
       "| MC          |  68 | 1.479951 |\n",
       "| LASSO       |  70 | 1.419242 |\n",
       "| Ridge       | 185 | 2.704413 |\n",
       "| Elastic Net |  91 | 1.425476 |\n",
       "\n"
      ],
      "text/plain": [
       "  Models      Coefficients MSE     \n",
       "1 MC           68          1.479951\n",
       "2 LASSO        70          1.419242\n",
       "3 Ridge       185          2.704413\n",
       "4 Elastic Net  91          1.425476"
      ]
     },
     "metadata": {},
     "output_type": "display_data"
    }
   ],
   "source": [
    "nombre_coefs <- c(length(lm_AIC$coefficients), sum(coef(lm_lasso) != 0),  length(coef(lm_ridge)), sum(coef(lm_elastic) != 0)) \n",
    "mse <- c(loss_mse_calo(lm_AIC, test), loss_mse_glm_calo(lm_lasso, x.mat_i_test, test), loss_mse_glm_calo(lm_ridge, x.mat_i_test, test), loss_mse_glm_calo(lm_elastic, x.mat_i_test, test))\n",
    "models_lm = c(\"MC\", \"LASSO\", \"Ridge\", \"Elastic Net\")\n",
    "data.frame(Models = models_lm, Coefficients = nombre_coefs, MSE = mse)"
   ]
  },
  {
   "cell_type": "code",
   "execution_count": 513,
   "id": "3a94e2fc-3934-495c-bbc8-b0b25759b407",
   "metadata": {},
   "outputs": [
    {
     "data": {
      "text/html": [
       "'s0'"
      ],
      "text/latex": [
       "'s0'"
      ],
      "text/markdown": [
       "'s0'"
      ],
      "text/plain": [
       "[1] \"s0\""
      ]
     },
     "metadata": {},
     "output_type": "display_data"
    }
   ],
   "source": [
    "colnames(test_residuals)"
   ]
  },
  {
   "cell_type": "code",
   "execution_count": 559,
   "id": "73185d20-fa73-4fc0-ab71-c8a67112b457",
   "metadata": {
    "scrolled": true
   },
   "outputs": [
    {
     "name": "stdout",
     "output_type": "stream",
     "text": [
      "[1] \"R^2:  0.990757328638543\"\n"
     ]
    },
    {
     "data": {
      "image/png": "[encoded data removed]",
      "text/plain": [
       "plot without title"
      ]
     },
     "metadata": {
      "image/png": {
       "height": 600,
       "width": 1080
      }
     },
     "output_type": "display_data"
    },
    {
     "data": {
      "image/png": "[encoded data removed]",
      "text/plain": [
       "plot without title"
      ]
     },
     "metadata": {
      "image/png": {
       "height": 600,
       "width": 1080
      }
     },
     "output_type": "display_data"
    }
   ],
   "source": [
    "test_predicted = test\n",
    "test_predicted[, \"S_Calories_Burned_pred_lm\"] <- predict(best.lm,newx = model.matrix(S_Calories_Burned ~ .^2 - 1, data = test))\n",
    "print(paste(\"R^2: \", cor(test$S_Calories_Burned, test_predicted[, \"S_Calories_Burned_pred_lm\"])^2))\n",
    "ggplot(data = test_predicted) +\n",
    "  geom_point(aes(x = S_Calories_Burned, y = S_Calories_Burned_pred_lm), alpha = 0.5) +\n",
    "  geom_abline(slope = 1, intercept = 0, color = \"red\", linetype = \"dashed\") +\n",
    "  labs(title = \"Prédictions vs Valeurs Réelles\",\n",
    "       x = \"Valeurs Réelles\", \n",
    "       y = \"Prédictions\") +\n",
    "  theme_minimal()\n",
    "test_residuals = data.frame(lm = test_predicted$S_Calories_Burned_pred_lm - test_predicted$S_Calories_Burned )\n",
    "colnames(test_residuals)[1] = 'lm'\n",
    "ggplot(data = test_residuals, aes(x = lm)) + \n",
    "  geom_histogram(bins = 30) + \n",
    "  labs(title = \"Distribution des résidus\")+\n",
    "  theme_minimal()"
   ]
  },
  {
   "cell_type": "markdown",
   "id": "e07341cb-9195-4747-af46-c4bbbb2efe77",
   "metadata": {
    "jp-MarkdownHeadingCollapsed": true
   },
   "source": [
    "#### <FONT COLOR=\"Blue\">1.2. Support Vector Regression</font>"
   ]
  },
  {
   "cell_type": "markdown",
   "id": "7ff532bb-d85d-48f7-b211-ead0287073fb",
   "metadata": {},
   "source": [
    "- **Trouver les meilleurs hypers parametres**"
   ]
  },
  {
   "cell_type": "markdown",
   "id": "58eff376-7cc9-485d-9e3a-e8cee676a2ac",
   "metadata": {},
   "source": [
    "On va choisir le meilleur model en examinant le linéaire kernel, radial kernel et poly kernel avec différents type de pénalise les points en dehors du tube. En plus, on va choisir également les hypers parametres (comme C, $\\gamma$, $\\epsilon$, $\\nu$) par cross validation "
   ]
  },
  {
   "cell_type": "markdown",
   "id": "dc94e140-2166-40c0-bb79-09c2a8ac082f",
   "metadata": {},
   "source": [
    "***!!!! Attention, le cell suivant prend beaucoup de temps à calculer(environ 30 mins)*** "
   ]
  },
  {
   "cell_type": "code",
   "execution_count": 94,
   "id": "757b5af4-7766-4a42-a6da-ebf8e7f2c1dd",
   "metadata": {},
   "outputs": [
    {
     "name": "stdout",
     "output_type": "stream",
     "text": [
      "===== Model: linear_eps-regression =====\n",
      "Best parameters:\n",
      "   cost gamma epsilon\n",
      "15   10  0.01     0.1\n",
      "Cross-val error (MSE) = 0.01563905 \n",
      "\n",
      "===== Model: linear_nu-regression =====\n",
      "Best parameters:\n",
      "   cost gamma  nu\n",
      "15   10  0.01 0.5\n",
      "Cross-val error (MSE) = 0.01573914 \n",
      "\n",
      "===== Model: radial_eps-regression =====\n",
      "Best parameters:\n",
      "  cost gamma epsilon\n",
      "3   10  0.01       0\n",
      "Cross-val error (MSE) = 0.009517358 \n",
      "\n",
      "===== Model: radial_nu-regression =====\n",
      "Best parameters:\n",
      "   cost gamma  nu\n",
      "15   10  0.01 0.5\n",
      "Cross-val error (MSE) = 0.009308213 \n",
      "\n",
      "===== Model: poly_eps-regression =====\n",
      "Best parameters:\n",
      "   cost gamma epsilon\n",
      "18    1   0.1     0.1\n",
      "Cross-val error (MSE) = 0.05793432 \n",
      "\n",
      "===== Model: poly_nu-regression =====\n",
      "Best parameters:\n",
      "   cost gamma  nu\n",
      "18    1   0.1 0.5\n",
      "Cross-val error (MSE) = 0.05321932 \n",
      "\n"
     ]
    }
   ],
   "source": [
    "svm.tune.results <- list()\n",
    "\n",
    "# Choix de kernels et types à explorer\n",
    "kernels <- c(\"linear\", \"radial\", \"poly\")\n",
    "types   <- c(\"eps-regression\", \"nu-regression\")\n",
    "\n",
    "for (k in kernels) {\n",
    "  for (t in types) {\n",
    "    \n",
    "    if (t == \"eps-regression\") {\n",
    "      # Pour eps-regression, on fait varier cost, gamma, epsilon\n",
    "      svm.tune <- tune(\n",
    "        svm,\n",
    "        S_Calories_Burned ~ .,          \n",
    "        data = train,\n",
    "        kernel = k,\n",
    "        type = t,\n",
    "        ranges = list(\n",
    "          cost    = c(0.1, 1, 10,100),\n",
    "          gamma   = c(0.01, 0.1, 1),\n",
    "          epsilon = c(0, 0.1, 0.2)\n",
    "        ),\n",
    "        tunecontrol = tune.control(sampling = \"cross\", cross = 5)  \n",
    "      )\n",
    "      \n",
    "      svm.tune.results[[paste(k, t, sep = \"_\")]] <- svm.tune\n",
    "      \n",
    "    } else {\n",
    "      # \"nu-regression\" : on fait varier cost, gamma, nu\n",
    "      svm.tune <- tune(\n",
    "        svm,\n",
    "        S_Calories_Burned ~ .,\n",
    "        data = train,\n",
    "        kernel = k,\n",
    "        type = t,\n",
    "        ranges = list(\n",
    "          cost  = c(0.1, 1, 10,100),\n",
    "          gamma = c(0.01, 0.1, 1),\n",
    "          nu    = c(0.1, 0.5, 0.9)\n",
    "        ),\n",
    "        tunecontrol = tune.control(sampling = \"cross\", cross = 5)\n",
    "      )\n",
    "      \n",
    "      svm.tune.results[[paste(k, t, sep = \"_\")]] <- svm.tune\n",
    "    }\n",
    "  }\n",
    "}\n",
    "\n",
    "# Visualiser les meilleurs résultats \n",
    "for (name in names(svm.tune.results)) {\n",
    "  cat(\"===== Model:\", name, \"=====\\n\")\n",
    "  cat(\"Best parameters:\\n\")\n",
    "  print(svm.tune.results[[name]]$best.parameters)\n",
    "  cat(\"Cross-val error (MSE) =\", svm.tune.results[[name]]$best.performance, \"\\n\\n\")\n",
    "}"
   ]
  },
  {
   "cell_type": "markdown",
   "id": "e03ae283-03c3-4ef0-8abd-88937f916303",
   "metadata": {},
   "source": [
    "- **Construire le model**"
   ]
  },
  {
   "cell_type": "code",
   "execution_count": 197,
   "id": "bbd23db6-743a-4ec7-aad5-bc43cc7863ed",
   "metadata": {},
   "outputs": [],
   "source": [
    "MSE_loss = c()\n",
    "for (model in names(svm.tune.results)){\n",
    "    MSE_loss <- append(MSE_loss, svm.tune.results[[model]]$best.performance)\n",
    "} \n",
    "best_svm = svm.tune.results[[which.min(MSE_loss)]]$best.model"
   ]
  },
  {
   "cell_type": "code",
   "execution_count": 201,
   "id": "64b59d52-fe27-4c6b-b0da-59a19c866832",
   "metadata": {},
   "outputs": [
    {
     "name": "stdout",
     "output_type": "stream",
     "text": [
      "[1] \"MSE loss de SVM:  1.35330611842824\"\n"
     ]
    }
   ],
   "source": [
    "print(paste(\"MSE loss de SVM: \",loss_mse_calo(best_svm, test)))"
   ]
  },
  {
   "cell_type": "markdown",
   "id": "4dbe41c1-ffa2-4187-a526-483440bc204b",
   "metadata": {
    "jp-MarkdownHeadingCollapsed": true
   },
   "source": [
    "#### <FONT COLOR=\"Blue\">1.3. Regression Tree</font>"
   ]
  },
  {
   "cell_type": "markdown",
   "id": "6f444f8c-7609-45cf-a9a1-2599da93e28a",
   "metadata": {},
   "source": [
    "Car la taille de données est petite, on essaye avec cp = 0 (maximun de la compléxité)"
   ]
  },
  {
   "cell_type": "code",
   "execution_count": 170,
   "id": "3820e808-0703-4410-a3e9-2912a96f3df2",
   "metadata": {},
   "outputs": [
    {
     "name": "stdout",
     "output_type": "stream",
     "text": [
      "Optimal number of splits: 62"
     ]
    }
   ],
   "source": [
    "tree.reg_no_i <- rpart(S_Calories_Burned ~ ., data = train, \n",
    "                      control = rpart.control(cp = 0, xval = 50))\n",
    "optimal_row <- which.min(tree.reg_no_i$cptable[, \"xerror\"])\n",
    "optimal_cp <- tree.reg_no_i$cptable[optimal_row, \"CP\"]\n",
    "\n",
    "tree.reg_no_i <- prune(tree.reg_no_i, cp = optimal_cp)\n",
    "#plot(as.party(tree.reg_no_i), type=\"simple\")\n",
    "nsplits <- tree.reg_no_i$cptable[optimal_row, \"nsplit\"]\n",
    "cat(\"Optimal number of splits:\", nsplits)"
   ]
  },
  {
   "cell_type": "code",
   "execution_count": 207,
   "id": "ad05c526-bde1-4ed4-bb91-48f2acbceedd",
   "metadata": {},
   "outputs": [],
   "source": [
    "best_cart = tree.reg_no_i"
   ]
  },
  {
   "cell_type": "markdown",
   "id": "0c55aeea-3bdc-4c23-9a31-c59db32bd6ef",
   "metadata": {},
   "source": [
    "- **Evaluation le model**"
   ]
  },
  {
   "cell_type": "code",
   "execution_count": 565,
   "id": "7564f8d3-22f4-49e9-8c4a-3e227d0e7665",
   "metadata": {},
   "outputs": [
    {
     "name": "stdout",
     "output_type": "stream",
     "text": [
      "[1] \"MSE loss de CART:  3.46820082483289\"\n",
      "[1] \"R^2:  0.945442807760759\"\n"
     ]
    },
    {
     "data": {
      "image/png": "[encoded data removed]",
      "text/plain": [
       "plot without title"
      ]
     },
     "metadata": {
      "image/png": {
       "height": 600,
       "width": 1080
      }
     },
     "output_type": "display_data"
    },
    {
     "data": {
      "image/png": "[encoded data removed]",
      "text/plain": [
       "plot without title"
      ]
     },
     "metadata": {
      "image/png": {
       "height": 600,
       "width": 1080
      }
     },
     "output_type": "display_data"
    }
   ],
   "source": [
    "print(paste(\"MSE loss de CART: \",loss_mse_calo(model = best_cart, test_data = test)))\n",
    "residuals <- residuals(best_cart)\n",
    "test_predicted[, \"S_Calories_Burned_pred_cart\"] <- predict(best_cart,test)\n",
    "print(paste(\"R^2: \", cor(test$S_Calories_Burned, test_predicted[, \"S_Calories_Burned_pred_cart\"])^2))\n",
    "ggplot(data = test_predicted) +\n",
    "  geom_point(aes(x = S_Calories_Burned, y = S_Calories_Burned_pred_cart), alpha = 0.5) +\n",
    "  geom_abline(slope = 1, intercept = 0, color = \"red\", linetype = \"dashed\") +\n",
    "  labs(title = \"Prédictions vs Valeurs Réelles\",\n",
    "       x = \"Valeurs Réelles\", \n",
    "       y = \"Prédictions\") +\n",
    "  theme_minimal()\n",
    "\n",
    "ggplot(data = train, aes(x = residuals)) + \n",
    "  geom_histogram(bins = 30) + \n",
    "  labs(title = \"Distribution des résidus\")+\n",
    "  theme_minimal()"
   ]
  },
  {
   "cell_type": "markdown",
   "id": "06f6e8ac-04e6-4aaf-a1f1-7bd8f568dc2f",
   "metadata": {},
   "source": [
    "**Interprétation**"
   ]
  },
  {
   "cell_type": "code",
   "execution_count": 284,
   "id": "4fd29b55-33d9-4a7c-8044-552d587d6b79",
   "metadata": {},
   "outputs": [
    {
     "data": {
      "image/png": "[encoded data removed]",
      "text/plain": [
       "plot without title"
      ]
     },
     "metadata": {
      "image/png": {
       "height": 600,
       "width": 1080
      }
     },
     "output_type": "display_data"
    }
   ],
   "source": [
    "inter_cart = as.data.frame(best_cart$variable.importance)\n",
    "names(inter_cart)[1] = \"Important\"\n",
    "\n",
    "inter_cart$Variables <- rownames(inter_cart)\n",
    "\n",
    "ggplot(data = inter_cart, aes(x = Variables, y = Important)) +\n",
    "  geom_bar(stat = \"identity\") +\n",
    "  theme(axis.text.x = element_text(angle = 45, hjust = 1)) +\n",
    "  labs(title = \"Importance des variables\", \n",
    "       x = \"Variables\", \n",
    "       y = \"Importance\")"
   ]
  },
  {
   "cell_type": "markdown",
   "id": "cfb2f8fd-c02d-4814-93a9-a0a8837d22ae",
   "metadata": {
    "jp-MarkdownHeadingCollapsed": true
   },
   "source": [
    "### <FONT COLOR=\"Gray\">2. Agrégation de modèles</font>"
   ]
  },
  {
   "cell_type": "markdown",
   "id": "6bd0a2fe-79a0-4fd9-982b-308452eae39d",
   "metadata": {},
   "source": [
    "#### <FONT COLOR=\"Blue\">2.1. Random forest</font>\n"
   ]
  },
  {
   "cell_type": "markdown",
   "id": "29b5bb92-1415-4075-879f-d339e276f9be",
   "metadata": {},
   "source": [
    "- **Trouver les meilleurs hypers parametres**"
   ]
  },
  {
   "cell_type": "code",
   "execution_count": 350,
   "id": "2e2254a7-abfd-44b3-af3d-4150540f22dc",
   "metadata": {},
   "outputs": [
    {
     "name": "stdout",
     "output_type": "stream",
     "text": [
      "-0.376751 0.01 \n",
      "0.3595373 0.01 \n",
      "0.2517104 0.01 \n",
      "0.09863366 0.01 \n",
      "-0.002394123 0.01 \n"
     ]
    }
   ],
   "source": [
    "# mtry\n",
    "x <- train[, -which(names(train) == \"S_Calories_Burned\")]\n",
    "y <- train$S_Calories_Burned\n",
    "best_mtry <- tuneRF(\n",
    "  x = x,\n",
    "  y = y,\n",
    "  ntreeTry = 500,\n",
    "  stepFactor = 1.5,\n",
    "  improve = 0.01,\n",
    "  trace = FALSE,\n",
    "  plot = FALSE\n",
    ")\n",
    "best_mtry <- best_mtry[which.min(best_mtry[, 2]), 1]\n"
   ]
  },
  {
   "cell_type": "markdown",
   "id": "3df09e9f-ebf9-4cdb-9fcc-cf3a1c0c2595",
   "metadata": {},
   "source": [
    "- **Construire le model**"
   ]
  },
  {
   "cell_type": "code",
   "execution_count": 378,
   "id": "ca8d8d52-18c0-4850-9c75-b672e1dfb4d6",
   "metadata": {},
   "outputs": [
    {
     "name": "stdout",
     "output_type": "stream",
     "text": [
      "     |      Out-of-bag   |       Test set    |\n",
      "Tree |      MSE  %Var(y) |      MSE  %Var(y) |\n",
      "  50 |  0.02506     2.58 |  0.02637     2.38 |\n",
      " 100 |  0.02362     2.43 |  0.02487     2.25 |\n",
      " 150 |  0.02372     2.44 |    0.025     2.26 |\n",
      " 200 |  0.02337     2.40 |  0.02508     2.26 |\n",
      " 250 |   0.0235     2.42 |  0.02499     2.26 |\n",
      " 300 |  0.02339     2.41 |  0.02503     2.26 |\n",
      " 350 |   0.0233     2.40 |  0.02487     2.25 |\n",
      " 400 |   0.0233     2.40 |  0.02487     2.25 |\n",
      " 450 |  0.02323     2.39 |  0.02482     2.24 |\n",
      " 500 |  0.02322     2.39 |  0.02496     2.25 |\n",
      "     |      Out-of-bag   |       Test set    |\n",
      "Tree |      MSE  %Var(y) |      MSE  %Var(y) |\n",
      "  50 |  0.04628     4.76 |  0.04871     4.40 |\n",
      " 100 |   0.0433     4.46 |  0.05066     4.57 |\n",
      " 150 |  0.04097     4.22 |  0.04686     4.23 |\n",
      " 200 |   0.0406     4.18 |  0.04552     4.11 |\n",
      " 250 |  0.03968     4.08 |  0.04515     4.07 |\n",
      " 300 |  0.03931     4.05 |   0.0453     4.09 |\n",
      " 350 |  0.03967     4.08 |  0.04517     4.08 |\n",
      " 400 |  0.03963     4.08 |  0.04491     4.05 |\n",
      " 450 |  0.03975     4.09 |  0.04504     4.07 |\n",
      " 500 |  0.03989     4.11 |  0.04536     4.09 |\n"
     ]
    }
   ],
   "source": [
    "rf.reg_bestmtry=randomForest(S_Calories_Burned~., data=train,xtest=test[,-9],ytest=test[,\"S_Calories_Burned\"],\n",
    "   ntree=500,mtry = best_mtry, do.trace=50,importance=TRUE, keep.forest = TRUE)\n",
    "rf.reg_mtrydefault = randomForest(S_Calories_Burned~., data=train,xtest=test[,-9],ytest=test[,\"S_Calories_Burned\"],\n",
    "   ntree=500,mtry = floor(ncol(train)/3), do.trace=50,importance=TRUE, keep.forest = TRUE)"
   ]
  },
  {
   "cell_type": "code",
   "execution_count": 384,
   "id": "c8ba9940-467e-4c29-a07e-dfae803117ee",
   "metadata": {},
   "outputs": [],
   "source": [
    "best_rf = rf.reg_bestmtry"
   ]
  },
  {
   "cell_type": "markdown",
   "id": "a27e7547-4728-4008-9698-31032d184fef",
   "metadata": {},
   "source": [
    "- **Evaluation le model**"
   ]
  },
  {
   "cell_type": "code",
   "execution_count": 563,
   "id": "152c21af-15d1-41d2-b79c-2a30d8286232",
   "metadata": {
    "scrolled": true
   },
   "outputs": [
    {
     "name": "stdout",
     "output_type": "stream",
     "text": [
      "[1] \"MSE loss de Random Forest:  2.20615174293676\"\n",
      "[1] \"R^2:  0.980057892204444\"\n"
     ]
    },
    {
     "data": {
      "image/png": "[encoded data removed]",
      "text/plain": [
       "plot without title"
      ]
     },
     "metadata": {
      "image/png": {
       "height": 600,
       "width": 1080
      }
     },
     "output_type": "display_data"
    },
    {
     "data": {
      "image/png": "[encoded data removed]",
      "text/plain": [
       "plot without title"
      ]
     },
     "metadata": {
      "image/png": {
       "height": 600,
       "width": 1080
      }
     },
     "output_type": "display_data"
    }
   ],
   "source": [
    "print(paste(\"MSE loss de Random Forest: \",loss_mse_calo(model = best_rf, test_data = test)))\n",
    "test_predicted[, \"S_Calories_Burned_pred_rf\"] <- predict(best_rf,test)\n",
    "print(paste(\"R^2: \", cor(test$S_Calories_Burned, test_predicted[, \"S_Calories_Burned_pred_rf\"])^2))\n",
    "residuals <- test_predicted[, \"S_Calories_Burned\"] - test_predicted[, \"S_Calories_Burned_pred_rf\"]\n",
    "ggplot(data = test_predicted) +\n",
    "  geom_point(aes(x = S_Calories_Burned, y = S_Calories_Burned_pred_rf), alpha = 0.5) +\n",
    "  geom_abline(slope = 1, intercept = 0, color = \"red\", linetype = \"dashed\") +\n",
    "  labs(title = \"Prédictions vs Valeurs Réelles\",\n",
    "       x = \"Valeurs Réelles\", \n",
    "       y = \"Prédictions\") +\n",
    "  theme_minimal()\n",
    "ggplot(data = test_predicted, aes(x = residuals)) + \n",
    "  geom_histogram(bins = 30) + \n",
    "  labs(title = \"Distribution des résidus\")"
   ]
  },
  {
   "cell_type": "code",
   "execution_count": 503,
   "id": "0a2a94ea-8da8-41ef-8729-ea9ae1b4c76d",
   "metadata": {},
   "outputs": [
    {
     "data": {
      "image/png": "[encoded data removed]",
      "text/plain": [
       "plot without title"
      ]
     },
     "metadata": {
      "image/png": {
       "height": 600,
       "width": 1080
      }
     },
     "output_type": "display_data"
    }
   ],
   "source": [
    "varImpPlot(best_rf)"
   ]
  },
  {
   "cell_type": "markdown",
   "id": "e018b2da-4585-4306-9d8a-bb1dd3f2c6eb",
   "metadata": {},
   "source": [
    "#### <FONT COLOR=\"Blue\">2.2. Boosting</font>\n"
   ]
  },
  {
   "cell_type": "code",
   "execution_count": 581,
   "id": "4372e771-175f-40b5-a66b-5c74701d4930",
   "metadata": {},
   "outputs": [
    {
     "name": "stdout",
     "output_type": "stream",
     "text": [
      "  n.trees interaction.depth shrinkage n.minobsinnode\n",
      "4     500                 3      0.05              5\n"
     ]
    },
    {
     "data": {
      "image/png": "[encoded data removed]",
      "text/plain": [
       "plot without title"
      ]
     },
     "metadata": {
      "image/png": {
       "height": 600,
       "width": 1080
      }
     },
     "output_type": "display_data"
    }
   ],
   "source": [
    "tune_grid <- expand.grid(\n",
    "  interaction.depth = 3,        \n",
    "  n.trees = 500,              \n",
    "  shrinkage = c(0.01, 0.05, 0.1), \n",
    "  n.minobsinnode = c(5, 10, 15)  \n",
    ")\n",
    "\n",
    "# 2. Configuration de la validation croisée\n",
    "ctrl <- trainControl(\n",
    "  method = \"cv\",\n",
    "  number = 10,        \n",
    "  verboseIter = FALSE\n",
    ")\n",
    "\n",
    "best_boosting <- train(\n",
    "  S_Calories_Burned ~ .,\n",
    "  data = train,                 \n",
    "  method = \"gbm\",\n",
    "  distribution = \"gaussian\",    \n",
    "  trControl = ctrl,\n",
    "  tuneGrid = tune_grid,\n",
    "  bag.fraction = 0.5,        \n",
    "  verbose = FALSE\n",
    ")\n",
    "\n",
    "# 4. Afficher les meilleurs hyperparamètres\n",
    "print(best_boosting$bestTune)\n",
    "\n",
    "# 5. Visualiser les performances\n",
    "ggplot(best_boosting) + theme_minimal()"
   ]
  },
  {
   "cell_type": "code",
   "execution_count": null,
   "id": "8c17faf2-f07f-4599-8908-93fe9a748c6b",
   "metadata": {},
   "outputs": [],
   "source": [
    "print(paste(\"MSE loss de Boosting : \",loss_mse_calo(model = best_boosting, test_data = test)))\n",
    "test_predicted[, \"S_Calories_Burned_pred_boos\"] <- predict(best_boosting,test)\n",
    "print(paste(\"R^2: \", cor(test$S_Calories_Burned, test_predicted[, \"S_Calories_Burned_pred_boos\"])^2))\n",
    "\n",
    "\n",
    "ggplot(data.frame(Actual = test$S_Calories_Burned, Predicted = test_pred)) +\n",
    "  geom_point(aes(x = Actual, y = Predicted), alpha = 0.5) +\n",
    "  geom_abline(slope = 1, intercept = 0, color = \"red\", linetype = \"dashed\") +\n",
    "  labs(title = \"Prédictions vs Valeurs Réelles\",\n",
    "       x = \"Valeurs Réelles\", \n",
    "       y = \"Prédictions\") +\n",
    "  theme_minimal()\n",
    "\n",
    "summary(best_boosting$finalModel, plotit = TRUE)"
   ]
  },
  {
   "cell_type": "markdown",
   "id": "bdd6399e-3e67-4143-9386-da732fcb9991",
   "metadata": {},
   "source": [
    "## <FONT COLOR=\"Orange\">2. Prédiction des niveaux d’expériences</font>"
   ]
  },
  {
   "cell_type": "markdown",
   "id": "9e6aa17a-c808-46af-8d8a-685038fcfd7c",
   "metadata": {},
   "source": [
    "## <FONT COLOR=\"Blue\">2.1. Régression logistique</font>"
   ]
  },
  {
   "cell_type": "code",
   "execution_count": 37,
   "id": "3c24c5c0-3312-4d6d-bef6-2cd0b49b68b5",
   "metadata": {},
   "outputs": [],
   "source": [
    "loss_cross_entropy_level <- function(model, test_data, epsilon = 1e-10){\n",
    "    probabilities <- predict(model, newdata = test, type = \"probs\")  # Matrice [N x K]\n",
    "    true_classes <- test$Experience_Level\n",
    "    true_one_hot <- model.matrix(~ Experience_Level - 1, data = test)  # Matrice [N x K]\n",
    "    probabilities <- pmax(probabilities, epsilon)\n",
    "    probabilities <- pmin(probabilities, 1 - epsilon)\n",
    "    log_loss <- -mean(rowSums(true_one_hot * log(probabilities)))\n",
    "    return (log_loss)\n",
    "}"
   ]
  },
  {
   "cell_type": "markdown",
   "id": "ed24c83f-e8f1-4af1-959c-3415f22fcffe",
   "metadata": {},
   "source": [
    "- **Modèles régression logistique avec sélection de variable par critère AIC**"
   ]
  },
  {
   "cell_type": "code",
   "execution_count": 19,
   "id": "0bed2b2a-070d-4b2f-a50d-4c5efc746785",
   "metadata": {},
   "outputs": [
    {
     "name": "stdout",
     "output_type": "stream",
     "text": [
      "# weights:  60 (38 variable)\n",
      "initial  value 854.720361 \n",
      "iter  10 value 210.434717\n",
      "iter  20 value 168.227872\n",
      "iter  30 value 159.413183\n",
      "iter  40 value 156.778147\n",
      "iter  50 value 156.717590\n",
      "iter  60 value 156.717199\n",
      "final  value 156.717196 \n",
      "converged\n",
      "# weights:  57 (36 variable)\n",
      "initial  value 854.720361 \n",
      "iter  10 value 211.031696\n",
      "iter  20 value 166.866310\n",
      "iter  30 value 158.374347\n",
      "iter  40 value 157.519022\n",
      "iter  50 value 157.471679\n",
      "final  value 157.471379 \n",
      "converged\n",
      "# weights:  57 (36 variable)\n",
      "initial  value 854.720361 \n",
      "iter  10 value 217.549072\n",
      "iter  20 value 170.793007\n",
      "iter  30 value 160.571037\n",
      "iter  40 value 158.354380\n",
      "iter  50 value 158.001131\n",
      "iter  60 value 157.957717\n",
      "final  value 157.957527 \n",
      "converged\n",
      "# weights:  57 (36 variable)\n",
      "initial  value 854.720361 \n",
      "iter  10 value 219.410770\n",
      "iter  20 value 170.074602\n",
      "iter  30 value 159.615515\n",
      "iter  40 value 156.793084\n",
      "iter  50 value 156.776238\n",
      "final  value 156.776077 \n",
      "converged\n",
      "# weights:  57 (36 variable)\n",
      "initial  value 854.720361 \n",
      "iter  10 value 210.419869\n",
      "iter  20 value 167.095073\n",
      "iter  30 value 159.298200\n",
      "iter  40 value 156.779263\n",
      "iter  50 value 156.765427\n",
      "final  value 156.765371 \n",
      "converged\n",
      "# weights:  57 (36 variable)\n",
      "initial  value 854.720361 \n",
      "iter  10 value 211.998013\n",
      "iter  20 value 166.627065\n",
      "iter  30 value 158.032512\n",
      "iter  40 value 156.820928\n",
      "iter  50 value 156.762449\n",
      "iter  60 value 156.761088\n",
      "iter  60 value 156.761087\n",
      "iter  60 value 156.761087\n",
      "final  value 156.761087 \n",
      "converged\n",
      "# weights:  57 (36 variable)\n",
      "initial  value 854.720361 \n",
      "iter  10 value 210.701239\n",
      "iter  20 value 169.821378\n",
      "iter  30 value 161.463724\n",
      "iter  40 value 159.546198\n",
      "iter  50 value 159.505935\n",
      "final  value 159.505830 \n",
      "converged\n",
      "# weights:  57 (36 variable)\n",
      "initial  value 854.720361 \n",
      "iter  10 value 210.173783\n",
      "iter  20 value 166.925919\n",
      "iter  30 value 158.488009\n",
      "iter  40 value 157.042519\n",
      "iter  50 value 156.993913\n",
      "iter  60 value 156.992366\n",
      "iter  60 value 156.992365\n",
      "iter  60 value 156.992365\n",
      "final  value 156.992365 \n",
      "converged\n",
      "# weights:  57 (36 variable)\n",
      "initial  value 854.720361 \n",
      "iter  10 value 224.449008\n",
      "iter  20 value 176.560632\n",
      "iter  30 value 161.043805\n",
      "iter  40 value 157.910279\n",
      "iter  50 value 157.874364\n",
      "iter  60 value 157.874085\n",
      "final  value 157.874082 \n",
      "converged\n",
      "# weights:  57 (36 variable)\n",
      "initial  value 854.720361 \n",
      "iter  10 value 213.677341\n",
      "iter  20 value 177.151393\n",
      "iter  30 value 162.896740\n",
      "iter  40 value 160.503035\n",
      "iter  50 value 160.484364\n",
      "final  value 160.484280 \n",
      "converged\n",
      "# weights:  51 (32 variable)\n",
      "initial  value 854.720361 \n",
      "iter  10 value 206.940795\n",
      "iter  20 value 167.773162\n",
      "iter  30 value 158.865496\n",
      "iter  40 value 158.120487\n",
      "iter  50 value 158.040480\n",
      "iter  60 value 158.033878\n",
      "final  value 158.033860 \n",
      "converged\n",
      "# weights:  57 (36 variable)\n",
      "initial  value 854.720361 \n",
      "iter  10 value 263.913638\n",
      "iter  20 value 199.293847\n",
      "iter  30 value 173.843660\n",
      "iter  40 value 158.386734\n",
      "iter  50 value 157.719240\n",
      "final  value 157.716135 \n",
      "converged\n",
      "# weights:  57 (36 variable)\n",
      "initial  value 854.720361 \n",
      "iter  10 value 220.709140\n",
      "iter  20 value 172.676801\n",
      "iter  30 value 158.739736\n",
      "iter  40 value 156.791188\n",
      "iter  50 value 156.760532\n",
      "iter  60 value 156.760042\n",
      "iter  60 value 156.760041\n",
      "iter  60 value 156.760041\n",
      "final  value 156.760041 \n",
      "converged\n",
      "# weights:  51 (32 variable)\n",
      "initial  value 854.720361 \n",
      "iter  10 value 369.091887\n",
      "iter  20 value 351.233950\n",
      "iter  30 value 346.834795\n",
      "iter  40 value 345.205814\n",
      "iter  50 value 345.127580\n",
      "final  value 345.127243 \n",
      "converged\n",
      "# weights:  57 (36 variable)\n",
      "initial  value 854.720361 \n",
      "iter  10 value 233.806989\n",
      "iter  20 value 168.743603\n",
      "iter  30 value 159.058112\n",
      "iter  40 value 156.777785\n",
      "iter  50 value 156.770161\n",
      "final  value 156.770123 \n",
      "converged\n",
      "# weights:  51 (32 variable)\n",
      "initial  value 854.720361 \n",
      "iter  10 value 206.940795\n",
      "iter  20 value 167.773162\n",
      "iter  30 value 158.865496\n",
      "iter  40 value 158.120487\n",
      "iter  50 value 158.040480\n",
      "iter  60 value 158.033878\n",
      "final  value 158.033860 \n",
      "converged\n",
      "# weights:  48 (30 variable)\n",
      "initial  value 854.720361 \n",
      "iter  10 value 206.511973\n",
      "iter  20 value 167.444892\n",
      "iter  30 value 159.113967\n",
      "iter  40 value 158.818608\n",
      "iter  50 value 158.802066\n",
      "final  value 158.801838 \n",
      "converged\n",
      "# weights:  48 (30 variable)\n",
      "initial  value 854.720361 \n",
      "iter  10 value 219.444964\n",
      "iter  20 value 171.456466\n",
      "iter  30 value 160.966453\n",
      "iter  40 value 159.459610\n",
      "iter  50 value 159.128453\n",
      "iter  60 value 159.099302\n",
      "final  value 159.099169 \n",
      "converged\n",
      "# weights:  48 (30 variable)\n",
      "initial  value 854.720361 \n",
      "iter  10 value 219.027329\n",
      "iter  20 value 173.236672\n",
      "iter  30 value 160.122394\n",
      "iter  40 value 158.142654\n",
      "iter  50 value 158.131855\n",
      "final  value 158.131785 \n",
      "converged\n",
      "# weights:  48 (30 variable)\n",
      "initial  value 854.720361 \n",
      "iter  10 value 211.670602\n",
      "iter  20 value 167.092354\n",
      "iter  30 value 158.866409\n",
      "iter  40 value 158.121656\n",
      "iter  50 value 158.117538\n",
      "final  value 158.117528 \n",
      "converged\n",
      "# weights:  48 (30 variable)\n",
      "initial  value 854.720361 \n",
      "iter  10 value 213.300298\n",
      "iter  20 value 166.072111\n",
      "iter  30 value 158.588743\n",
      "iter  40 value 158.142890\n",
      "iter  50 value 158.075116\n",
      "final  value 158.074567 \n",
      "converged\n",
      "# weights:  48 (30 variable)\n",
      "initial  value 854.720361 \n",
      "iter  10 value 216.019528\n",
      "iter  20 value 169.427491\n",
      "iter  30 value 161.269862\n",
      "iter  40 value 160.682762\n",
      "iter  50 value 160.638332\n",
      "final  value 160.638288 \n",
      "converged\n",
      "# weights:  48 (30 variable)\n",
      "initial  value 854.720361 \n",
      "iter  10 value 205.924757\n",
      "iter  20 value 167.702197\n",
      "iter  30 value 158.711556\n",
      "iter  40 value 158.390188\n",
      "iter  50 value 158.344878\n",
      "final  value 158.344457 \n",
      "converged\n",
      "# weights:  48 (30 variable)\n",
      "initial  value 854.720361 \n",
      "iter  10 value 212.006616\n",
      "iter  20 value 176.567445\n",
      "iter  30 value 159.749685\n",
      "iter  40 value 159.094969\n",
      "iter  50 value 159.056597\n",
      "final  value 159.056295 \n",
      "converged\n",
      "# weights:  48 (30 variable)\n",
      "initial  value 854.720361 \n",
      "iter  10 value 211.639324\n",
      "iter  20 value 179.079612\n",
      "iter  30 value 162.596307\n",
      "iter  40 value 161.576978\n",
      "iter  50 value 161.534425\n",
      "final  value 161.534242 \n",
      "converged\n",
      "# weights:  48 (30 variable)\n",
      "initial  value 854.720361 \n",
      "iter  10 value 271.238786\n",
      "iter  20 value 204.978009\n",
      "iter  30 value 168.227323\n",
      "iter  40 value 159.688595\n",
      "iter  50 value 159.301955\n",
      "final  value 159.298815 \n",
      "converged\n",
      "# weights:  48 (30 variable)\n",
      "initial  value 854.720361 \n",
      "iter  10 value 219.221073\n",
      "iter  20 value 174.117498\n",
      "iter  30 value 160.176986\n",
      "iter  40 value 158.205049\n",
      "iter  50 value 158.156565\n",
      "iter  60 value 158.154891\n",
      "iter  60 value 158.154890\n",
      "iter  60 value 158.154890\n",
      "final  value 158.154890 \n",
      "converged\n",
      "# weights:  42 (26 variable)\n",
      "initial  value 854.720361 \n",
      "iter  10 value 370.235816\n",
      "iter  20 value 351.605255\n",
      "iter  30 value 346.869922\n",
      "iter  40 value 345.999949\n",
      "iter  50 value 345.958491\n",
      "final  value 345.958122 \n",
      "converged\n",
      "# weights:  48 (30 variable)\n",
      "initial  value 854.720361 \n",
      "iter  10 value 228.805775\n",
      "iter  20 value 170.982776\n",
      "iter  30 value 160.102862\n",
      "iter  40 value 158.133474\n",
      "iter  50 value 158.124274\n",
      "final  value 158.124200 \n",
      "converged\n",
      "# weights:  60 (38 variable)\n",
      "initial  value 854.720361 \n",
      "iter  10 value 210.434717\n",
      "iter  20 value 168.227872\n",
      "iter  30 value 159.413183\n",
      "iter  40 value 156.778147\n",
      "iter  50 value 156.717590\n",
      "iter  60 value 156.717199\n",
      "final  value 156.717196 \n",
      "converged\n",
      "# weights:  48 (30 variable)\n",
      "initial  value 854.720361 \n",
      "iter  10 value 213.300298\n",
      "iter  20 value 166.072111\n",
      "iter  30 value 158.588743\n",
      "iter  40 value 158.142890\n",
      "iter  50 value 158.075116\n",
      "final  value 158.074567 \n",
      "converged\n",
      "# weights:  45 (28 variable)\n",
      "initial  value 854.720361 \n",
      "iter  10 value 213.278466\n",
      "iter  20 value 167.656812\n",
      "iter  30 value 159.137550\n",
      "iter  40 value 158.886387\n",
      "iter  50 value 158.879441\n",
      "final  value 158.879380 \n",
      "converged\n",
      "# weights:  45 (28 variable)\n",
      "initial  value 854.720361 \n",
      "iter  10 value 224.063801\n",
      "iter  20 value 168.556720\n",
      "iter  30 value 160.389000\n",
      "iter  40 value 159.435409\n",
      "iter  50 value 159.235005\n",
      "final  value 159.214618 \n",
      "converged\n",
      "# weights:  45 (28 variable)\n",
      "initial  value 854.720361 \n",
      "iter  10 value 219.180209\n",
      "iter  20 value 168.028497\n",
      "iter  30 value 158.710168\n",
      "iter  40 value 158.171289\n",
      "iter  50 value 158.168830\n",
      "final  value 158.168824 \n",
      "converged\n",
      "# weights:  45 (28 variable)\n",
      "initial  value 854.720361 \n",
      "iter  10 value 210.411608\n",
      "iter  20 value 166.817699\n",
      "iter  30 value 158.513427\n",
      "iter  40 value 158.156216\n",
      "iter  50 value 158.154634\n",
      "final  value 158.154628 \n",
      "converged\n",
      "# weights:  45 (28 variable)\n",
      "initial  value 854.720361 \n",
      "iter  10 value 213.130854\n",
      "iter  20 value 169.053093\n",
      "iter  30 value 161.126646\n",
      "iter  40 value 160.796693\n",
      "iter  50 value 160.773913\n",
      "final  value 160.773866 \n",
      "converged\n",
      "# weights:  45 (28 variable)\n",
      "initial  value 854.720361 \n",
      "iter  10 value 212.171147\n",
      "iter  20 value 166.265969\n",
      "iter  30 value 158.662238\n",
      "iter  40 value 158.415642\n",
      "iter  50 value 158.385275\n",
      "final  value 158.384979 \n",
      "converged\n",
      "# weights:  45 (28 variable)\n",
      "initial  value 854.720361 \n",
      "iter  10 value 215.849399\n",
      "iter  20 value 173.247987\n",
      "iter  30 value 159.616422\n",
      "iter  40 value 159.192432\n",
      "iter  50 value 159.156559\n",
      "final  value 159.156409 \n",
      "converged\n",
      "# weights:  45 (28 variable)\n",
      "initial  value 854.720361 \n",
      "iter  10 value 213.210751\n",
      "iter  20 value 176.909047\n",
      "iter  30 value 162.335056\n",
      "iter  40 value 161.734468\n",
      "iter  50 value 161.703272\n",
      "final  value 161.703228 \n",
      "converged\n",
      "# weights:  45 (28 variable)\n",
      "initial  value 854.720361 \n",
      "iter  10 value 268.260134\n",
      "iter  20 value 203.234943\n",
      "iter  30 value 164.759555\n",
      "iter  40 value 159.834985\n",
      "iter  50 value 159.320087\n",
      "final  value 159.315769 \n",
      "converged\n",
      "# weights:  45 (28 variable)\n",
      "initial  value 854.720361 \n",
      "iter  10 value 220.467714\n",
      "iter  20 value 172.536697\n",
      "iter  30 value 158.601426\n",
      "iter  40 value 158.226022\n",
      "iter  50 value 158.179673\n",
      "final  value 158.179251 \n",
      "converged\n",
      "# weights:  39 (24 variable)\n",
      "initial  value 854.720361 \n",
      "iter  10 value 370.062272\n",
      "iter  20 value 351.475115\n",
      "iter  30 value 347.055949\n",
      "iter  40 value 346.301101\n",
      "iter  50 value 346.290623\n",
      "iter  50 value 346.290623\n",
      "final  value 346.290623 \n",
      "converged\n",
      "# weights:  45 (28 variable)\n",
      "initial  value 854.720361 \n",
      "iter  10 value 228.053113\n",
      "iter  20 value 169.403422\n",
      "iter  30 value 158.812922\n",
      "iter  40 value 158.165410\n",
      "iter  50 value 158.161003\n",
      "final  value 158.160973 \n",
      "converged\n",
      "# weights:  51 (32 variable)\n",
      "initial  value 854.720361 \n",
      "iter  10 value 206.940795\n",
      "iter  20 value 167.773162\n",
      "iter  30 value 158.865496\n",
      "iter  40 value 158.120487\n",
      "iter  50 value 158.040480\n",
      "iter  60 value 158.033878\n",
      "final  value 158.033860 \n",
      "converged\n",
      "# weights:  57 (36 variable)\n",
      "initial  value 854.720361 \n",
      "iter  10 value 211.998013\n",
      "iter  20 value 166.627065\n",
      "iter  30 value 158.032512\n",
      "iter  40 value 156.820928\n",
      "iter  50 value 156.762449\n",
      "iter  60 value 156.761088\n",
      "iter  60 value 156.761087\n",
      "iter  60 value 156.761087\n",
      "final  value 156.761087 \n",
      "converged\n",
      "# weights:  45 (28 variable)\n",
      "initial  value 854.720361 \n",
      "iter  10 value 210.411608\n",
      "iter  20 value 166.817699\n",
      "iter  30 value 158.513427\n",
      "iter  40 value 158.156216\n",
      "iter  50 value 158.154634\n",
      "final  value 158.154628 \n",
      "converged\n",
      "# weights:  42 (26 variable)\n",
      "initial  value 854.720361 \n",
      "iter  10 value 210.013947\n",
      "iter  20 value 165.712540\n",
      "iter  30 value 159.071194\n",
      "iter  40 value 158.943746\n",
      "final  value 158.943295 \n",
      "converged\n",
      "# weights:  42 (26 variable)\n",
      "initial  value 854.720361 \n",
      "iter  10 value 226.216229\n",
      "iter  20 value 167.543788\n",
      "iter  30 value 160.406543\n",
      "iter  40 value 159.332554\n",
      "iter  50 value 159.285786\n",
      "final  value 159.283111 \n",
      "converged\n",
      "# weights:  42 (26 variable)\n",
      "initial  value 854.720361 \n",
      "iter  10 value 216.377237\n",
      "iter  20 value 168.426825\n",
      "iter  30 value 158.683798\n",
      "iter  40 value 158.340826\n",
      "iter  50 value 158.338737\n",
      "final  value 158.338731 \n",
      "converged\n",
      "# weights:  42 (26 variable)\n",
      "initial  value 854.720361 \n",
      "iter  10 value 203.408905\n",
      "iter  20 value 167.138014\n",
      "iter  30 value 160.906846\n",
      "iter  40 value 160.816413\n",
      "final  value 160.816257 \n",
      "converged\n",
      "# weights:  42 (26 variable)\n",
      "initial  value 854.720361 \n",
      "iter  10 value 212.821292\n",
      "iter  20 value 165.218542\n",
      "iter  30 value 158.680912\n",
      "iter  40 value 158.448494\n",
      "iter  50 value 158.447284\n",
      "iter  50 value 158.447283\n",
      "iter  50 value 158.447283\n",
      "final  value 158.447283 \n",
      "converged\n",
      "# weights:  42 (26 variable)\n",
      "initial  value 854.720361 \n",
      "iter  10 value 218.528624\n",
      "iter  20 value 172.254362\n",
      "iter  30 value 159.518470\n",
      "iter  40 value 159.228084\n",
      "final  value 159.227602 \n",
      "converged\n",
      "# weights:  42 (26 variable)\n",
      "initial  value 854.720361 \n",
      "iter  10 value 213.629074\n",
      "iter  20 value 173.736363\n",
      "iter  30 value 162.086479\n",
      "iter  40 value 161.756316\n",
      "final  value 161.755736 \n",
      "converged\n",
      "# weights:  42 (26 variable)\n",
      "initial  value 854.720361 \n",
      "iter  10 value 276.672834\n",
      "iter  20 value 195.814860\n",
      "iter  30 value 163.824114\n",
      "iter  40 value 159.636906\n",
      "iter  50 value 159.346477\n",
      "final  value 159.345989 \n",
      "converged\n",
      "# weights:  42 (26 variable)\n",
      "initial  value 854.720361 \n",
      "iter  10 value 216.019912\n",
      "iter  20 value 170.884788\n",
      "iter  30 value 158.495829\n",
      "iter  40 value 158.255748\n",
      "iter  50 value 158.254820\n",
      "iter  50 value 158.254819\n",
      "iter  50 value 158.254819\n",
      "final  value 158.254819 \n",
      "converged\n",
      "# weights:  36 (22 variable)\n",
      "initial  value 854.720361 \n",
      "iter  10 value 366.316291\n",
      "iter  20 value 351.911331\n",
      "iter  30 value 346.838561\n",
      "iter  40 value 346.663678\n",
      "final  value 346.663233 \n",
      "converged\n",
      "# weights:  42 (26 variable)\n",
      "initial  value 854.720361 \n",
      "iter  10 value 215.130169\n",
      "iter  20 value 166.813800\n",
      "iter  30 value 158.574563\n",
      "iter  40 value 158.205160\n",
      "iter  50 value 158.203677\n",
      "final  value 158.203673 \n",
      "converged\n",
      "# weights:  48 (30 variable)\n",
      "initial  value 854.720361 \n",
      "iter  10 value 213.300298\n",
      "iter  20 value 166.072111\n",
      "iter  30 value 158.588743\n",
      "iter  40 value 158.142890\n",
      "iter  50 value 158.075116\n",
      "final  value 158.074567 \n",
      "converged\n",
      "# weights:  48 (30 variable)\n",
      "initial  value 854.720361 \n",
      "iter  10 value 211.670602\n",
      "iter  20 value 167.092354\n",
      "iter  30 value 158.866409\n",
      "iter  40 value 158.121656\n",
      "iter  50 value 158.117538\n",
      "final  value 158.117528 \n",
      "converged\n",
      "# weights:  54 (34 variable)\n",
      "initial  value 854.720361 \n",
      "iter  10 value 209.105650\n",
      "iter  20 value 168.451291\n",
      "iter  30 value 158.172887\n",
      "iter  40 value 156.813219\n",
      "iter  50 value 156.806138\n",
      "final  value 156.806123 \n",
      "converged\n",
      "# weights:  42 (26 variable)\n",
      "initial  value 854.720361 \n",
      "iter  10 value 215.130169\n",
      "iter  20 value 166.813800\n",
      "iter  30 value 158.574563\n",
      "iter  40 value 158.205160\n",
      "iter  50 value 158.203677\n",
      "final  value 158.203673 \n",
      "converged\n",
      "# weights:  39 (24 variable)\n",
      "initial  value 854.720361 \n",
      "iter  10 value 213.793517\n",
      "iter  20 value 163.680110\n",
      "iter  30 value 158.998887\n",
      "iter  40 value 158.965182\n",
      "final  value 158.965062 \n",
      "converged\n",
      "# weights:  39 (24 variable)\n",
      "initial  value 854.720361 \n",
      "iter  10 value 228.164054\n",
      "iter  20 value 173.528584\n",
      "iter  30 value 160.121809\n",
      "iter  40 value 159.356875\n",
      "iter  50 value 159.327971\n",
      "iter  50 value 159.327971\n",
      "final  value 159.327971 \n",
      "converged\n",
      "# weights:  39 (24 variable)\n",
      "initial  value 854.720361 \n",
      "iter  10 value 215.679478\n",
      "iter  20 value 166.326813\n",
      "iter  30 value 158.697207\n",
      "iter  40 value 158.506347\n",
      "iter  50 value 158.505505\n",
      "iter  50 value 158.505505\n",
      "final  value 158.505505 \n",
      "converged\n",
      "# weights:  39 (24 variable)\n",
      "initial  value 854.720361 \n",
      "iter  10 value 216.153069\n",
      "iter  20 value 167.311548\n",
      "iter  30 value 160.917897\n",
      "iter  40 value 160.816631\n",
      "final  value 160.816419 \n",
      "converged\n",
      "# weights:  39 (24 variable)\n",
      "initial  value 854.720361 \n",
      "iter  10 value 210.517971\n",
      "iter  20 value 164.498786\n",
      "iter  30 value 158.631842\n",
      "iter  40 value 158.490378\n",
      "final  value 158.489637 \n",
      "converged\n",
      "# weights:  39 (24 variable)\n",
      "initial  value 854.720361 \n",
      "iter  10 value 234.742045\n",
      "iter  20 value 171.918858\n",
      "iter  30 value 159.375297\n",
      "iter  40 value 159.235179\n",
      "final  value 159.234855 \n",
      "converged\n",
      "# weights:  39 (24 variable)\n",
      "initial  value 854.720361 \n",
      "iter  10 value 232.419234\n",
      "iter  20 value 175.339143\n",
      "iter  30 value 161.971894\n",
      "iter  40 value 161.757522\n",
      "final  value 161.757209 \n",
      "converged\n",
      "# weights:  39 (24 variable)\n",
      "initial  value 854.720361 \n",
      "iter  10 value 253.075470\n",
      "iter  20 value 195.452767\n",
      "iter  30 value 162.033911\n",
      "iter  40 value 159.434003\n",
      "iter  50 value 159.391347\n",
      "iter  50 value 159.391346\n",
      "final  value 159.391346 \n",
      "converged\n",
      "# weights:  39 (24 variable)\n",
      "initial  value 854.720361 \n",
      "iter  10 value 211.876482\n",
      "iter  20 value 168.935192\n",
      "iter  30 value 158.498046\n",
      "iter  40 value 158.313549\n",
      "final  value 158.312967 \n",
      "converged\n",
      "# weights:  33 (20 variable)\n",
      "initial  value 854.720361 \n",
      "iter  10 value 371.623987\n",
      "iter  20 value 351.457875\n",
      "iter  30 value 346.732693\n",
      "iter  40 value 346.670602\n",
      "final  value 346.670544 \n",
      "converged\n",
      "# weights:  45 (28 variable)\n",
      "initial  value 854.720361 \n",
      "iter  10 value 228.053113\n",
      "iter  20 value 169.403422\n",
      "iter  30 value 158.812922\n",
      "iter  40 value 158.165410\n",
      "iter  50 value 158.161003\n",
      "final  value 158.160973 \n",
      "converged\n",
      "# weights:  45 (28 variable)\n",
      "initial  value 854.720361 \n",
      "iter  10 value 215.495718\n",
      "iter  20 value 166.203803\n",
      "iter  30 value 158.616422\n",
      "iter  40 value 158.171609\n",
      "iter  50 value 158.169253\n",
      "final  value 158.169245 \n",
      "converged\n",
      "# weights:  51 (32 variable)\n",
      "initial  value 854.720361 \n",
      "iter  10 value 218.008029\n",
      "iter  20 value 168.069625\n",
      "iter  30 value 157.774586\n",
      "iter  40 value 156.853427\n",
      "iter  50 value 156.848884\n",
      "final  value 156.848845 \n",
      "converged\n",
      "# weights:  45 (28 variable)\n",
      "initial  value 854.720361 \n",
      "iter  10 value 210.411608\n",
      "iter  20 value 166.817699\n",
      "iter  30 value 158.513427\n",
      "iter  40 value 158.156216\n",
      "iter  50 value 158.154634\n",
      "final  value 158.154628 \n",
      "converged\n",
      "# weights:  39 (24 variable)\n",
      "initial  value 854.720361 \n",
      "iter  10 value 211.876482\n",
      "iter  20 value 168.935192\n",
      "iter  30 value 158.498046\n",
      "iter  40 value 158.313549\n",
      "final  value 158.312967 \n",
      "converged\n",
      "# weights:  36 (22 variable)\n",
      "initial  value 854.720361 \n",
      "iter  10 value 212.297292\n",
      "iter  20 value 165.162498\n",
      "iter  30 value 159.062816\n",
      "iter  40 value 159.045284\n",
      "final  value 159.045261 \n",
      "converged\n",
      "# weights:  36 (22 variable)\n",
      "initial  value 854.720361 \n",
      "iter  10 value 221.725554\n",
      "iter  20 value 170.022277\n",
      "iter  30 value 160.663703\n",
      "iter  40 value 160.251995\n",
      "final  value 160.247489 \n",
      "converged\n",
      "# weights:  36 (22 variable)\n",
      "initial  value 854.720361 \n",
      "iter  10 value 210.894061\n",
      "iter  20 value 164.270646\n",
      "iter  30 value 158.636518\n",
      "iter  40 value 158.606683\n",
      "final  value 158.606588 \n",
      "converged\n",
      "# weights:  36 (22 variable)\n",
      "initial  value 854.720361 \n",
      "iter  10 value 222.745818\n",
      "iter  20 value 169.789825\n",
      "iter  30 value 161.004594\n",
      "iter  40 value 160.977412\n",
      "final  value 160.977377 \n",
      "converged\n",
      "# weights:  36 (22 variable)\n",
      "initial  value 854.720361 \n",
      "iter  10 value 224.859736\n",
      "iter  20 value 165.909556\n",
      "iter  30 value 158.662247\n",
      "iter  40 value 158.609738\n",
      "final  value 158.609611 \n",
      "converged\n",
      "# weights:  36 (22 variable)\n",
      "initial  value 854.720361 \n",
      "iter  10 value 230.606330\n",
      "iter  20 value 176.566531\n",
      "iter  30 value 159.546866\n",
      "iter  40 value 159.376910\n",
      "final  value 159.376589 \n",
      "converged\n",
      "# weights:  36 (22 variable)\n",
      "initial  value 854.720361 \n",
      "iter  10 value 224.153901\n",
      "iter  20 value 175.414825\n",
      "iter  30 value 161.995051\n",
      "iter  40 value 161.935823\n",
      "final  value 161.935747 \n",
      "converged\n",
      "# weights:  36 (22 variable)\n",
      "initial  value 854.720361 \n",
      "iter  10 value 277.101276\n",
      "iter  20 value 209.481776\n",
      "iter  30 value 162.825962\n",
      "iter  40 value 159.627631\n",
      "iter  50 value 159.542343\n",
      "iter  60 value 159.540489\n",
      "iter  70 value 159.539970\n",
      "final  value 159.539818 \n",
      "converged\n",
      "# weights:  30 (18 variable)\n",
      "initial  value 854.720361 \n",
      "iter  10 value 376.056527\n",
      "iter  20 value 353.406738\n",
      "iter  30 value 347.539524\n",
      "final  value 347.529660 \n",
      "converged\n",
      "# weights:  42 (26 variable)\n",
      "initial  value 854.720361 \n",
      "iter  10 value 234.553295\n",
      "iter  20 value 169.115963\n",
      "iter  30 value 158.721891\n",
      "iter  40 value 158.263160\n",
      "iter  50 value 158.261560\n",
      "iter  50 value 158.261559\n",
      "iter  50 value 158.261559\n",
      "final  value 158.261559 \n",
      "converged\n",
      "# weights:  42 (26 variable)\n",
      "initial  value 854.720361 \n",
      "iter  10 value 222.977080\n",
      "iter  20 value 172.731962\n",
      "iter  30 value 158.823058\n",
      "iter  40 value 158.296410\n",
      "iter  50 value 158.293773\n",
      "final  value 158.293770 \n",
      "converged\n",
      "# weights:  48 (30 variable)\n",
      "initial  value 854.720361 \n",
      "iter  10 value 204.730320\n",
      "iter  20 value 168.894794\n",
      "iter  30 value 157.413652\n",
      "iter  40 value 156.884507\n",
      "iter  50 value 156.883242\n",
      "iter  50 value 156.883241\n",
      "iter  50 value 156.883241\n",
      "final  value 156.883241 \n",
      "converged\n",
      "# weights:  42 (26 variable)\n",
      "initial  value 854.720361 \n",
      "iter  10 value 215.130169\n",
      "iter  20 value 166.813800\n",
      "iter  30 value 158.574563\n",
      "iter  40 value 158.205160\n",
      "iter  50 value 158.203677\n",
      "final  value 158.203673 \n",
      "converged\n",
      "# weights:  42 (26 variable)\n",
      "initial  value 854.720361 \n",
      "iter  10 value 216.019912\n",
      "iter  20 value 170.884788\n",
      "iter  30 value 158.495829\n",
      "iter  40 value 158.255748\n",
      "iter  50 value 158.254820\n",
      "iter  50 value 158.254819\n",
      "iter  50 value 158.254819\n",
      "final  value 158.254819 \n",
      "converged\n",
      "# weights:  36 (22 variable)\n",
      "initial  value 854.720361 \n",
      "iter  10 value 210.894061\n",
      "iter  20 value 164.270646\n",
      "iter  30 value 158.636518\n",
      "iter  40 value 158.606683\n",
      "final  value 158.606588 \n",
      "converged\n",
      "# weights:  33 (20 variable)\n",
      "initial  value 854.720361 \n",
      "iter  10 value 207.546533\n",
      "iter  20 value 162.503413\n",
      "iter  30 value 159.390938\n",
      "iter  40 value 159.384773\n",
      "final  value 159.384768 \n",
      "converged\n",
      "# weights:  33 (20 variable)\n",
      "initial  value 854.720361 \n",
      "iter  10 value 221.707182\n",
      "iter  20 value 166.772823\n",
      "iter  30 value 160.428958\n",
      "iter  40 value 160.284431\n",
      "final  value 160.284138 \n",
      "converged\n",
      "# weights:  33 (20 variable)\n",
      "initial  value 854.720361 \n",
      "iter  10 value 201.973390\n",
      "iter  20 value 165.953277\n",
      "iter  30 value 161.500736\n",
      "iter  40 value 161.489095\n",
      "final  value 161.489084 \n",
      "converged\n",
      "# weights:  33 (20 variable)\n",
      "initial  value 854.720361 \n",
      "iter  10 value 208.594346\n",
      "iter  20 value 162.899165\n",
      "iter  30 value 158.860622\n",
      "iter  40 value 158.844732\n",
      "final  value 158.844702 \n",
      "converged\n",
      "# weights:  33 (20 variable)\n",
      "initial  value 854.720361 \n",
      "iter  10 value 229.812803\n",
      "iter  20 value 171.807039\n",
      "iter  30 value 159.829343\n",
      "iter  40 value 159.796735\n",
      "final  value 159.796695 \n",
      "converged\n",
      "# weights:  33 (20 variable)\n",
      "initial  value 854.720361 \n",
      "iter  10 value 233.614367\n",
      "iter  20 value 174.428184\n",
      "iter  30 value 162.522136\n",
      "iter  40 value 162.471634\n",
      "final  value 162.471584 \n",
      "converged\n",
      "# weights:  33 (20 variable)\n",
      "initial  value 854.720361 \n",
      "iter  10 value 278.470369\n",
      "iter  20 value 201.237361\n",
      "iter  30 value 162.401325\n",
      "iter  40 value 159.935549\n",
      "iter  50 value 159.783149\n",
      "iter  60 value 159.764725\n",
      "iter  70 value 159.760174\n",
      "final  value 159.760135 \n",
      "converged\n",
      "# weights:  27 (16 variable)\n",
      "initial  value 854.720361 \n",
      "iter  10 value 371.903753\n",
      "iter  20 value 351.721939\n",
      "iter  30 value 348.234003\n",
      "final  value 348.229464 \n",
      "converged\n",
      "# weights:  39 (24 variable)\n",
      "initial  value 854.720361 \n",
      "iter  10 value 211.876482\n",
      "iter  20 value 168.935192\n",
      "iter  30 value 158.498046\n",
      "iter  40 value 158.313549\n",
      "final  value 158.312967 \n",
      "converged\n",
      "# weights:  39 (24 variable)\n",
      "initial  value 854.720361 \n",
      "iter  10 value 218.430315\n",
      "iter  20 value 168.757398\n",
      "iter  30 value 158.756857\n",
      "iter  40 value 158.563710\n",
      "final  value 158.563131 \n",
      "converged\n",
      "# weights:  39 (24 variable)\n",
      "initial  value 854.720361 \n",
      "iter  10 value 210.182000\n",
      "iter  20 value 169.658418\n",
      "iter  30 value 158.755822\n",
      "iter  40 value 158.557723\n",
      "final  value 158.557156 \n",
      "converged\n",
      "# weights:  45 (28 variable)\n",
      "initial  value 854.720361 \n",
      "iter  10 value 206.115260\n",
      "iter  20 value 168.502782\n",
      "iter  30 value 157.448655\n",
      "iter  40 value 157.196180\n",
      "final  value 157.195546 \n",
      "converged\n",
      "# weights:  39 (24 variable)\n",
      "initial  value 854.720361 \n",
      "iter  10 value 215.679478\n",
      "iter  20 value 166.326813\n",
      "iter  30 value 158.697207\n",
      "iter  40 value 158.506347\n",
      "iter  50 value 158.505505\n",
      "iter  50 value 158.505505\n",
      "final  value 158.505505 \n",
      "converged\n",
      "# weights:  39 (24 variable)\n",
      "initial  value 854.720361 \n",
      "iter  10 value 206.966159\n",
      "iter  20 value 168.095104\n",
      "iter  30 value 158.590314\n",
      "iter  40 value 158.452308\n",
      "final  value 158.451977 \n",
      "converged\n",
      "# weights:  33 (20 variable)\n",
      "initial  value 854.720361 \n",
      "iter  10 value 208.594346\n",
      "iter  20 value 162.899165\n",
      "iter  30 value 158.860622\n",
      "iter  40 value 158.844732\n",
      "final  value 158.844702 \n",
      "converged\n",
      "# weights:  30 (18 variable)\n",
      "initial  value 854.720361 \n",
      "iter  10 value 201.747820\n",
      "iter  20 value 160.653395\n",
      "iter  30 value 159.649353\n",
      "final  value 159.647507 \n",
      "converged\n",
      "# weights:  30 (18 variable)\n",
      "initial  value 854.720361 \n",
      "iter  10 value 214.585443\n",
      "iter  20 value 164.098479\n",
      "iter  30 value 160.620407\n",
      "final  value 160.568331 \n",
      "converged\n",
      "# weights:  30 (18 variable)\n",
      "initial  value 854.720361 \n",
      "iter  10 value 197.261893\n",
      "iter  20 value 163.416575\n",
      "iter  30 value 161.760163\n",
      "final  value 161.757029 \n",
      "converged\n",
      "# weights:  30 (18 variable)\n",
      "initial  value 854.720361 \n",
      "iter  10 value 234.352051\n",
      "iter  20 value 167.075107\n",
      "iter  30 value 160.115071\n",
      "final  value 160.093245 \n",
      "converged\n",
      "# weights:  30 (18 variable)\n",
      "initial  value 854.720361 \n",
      "iter  10 value 228.402939\n",
      "iter  20 value 168.386601\n",
      "iter  30 value 162.813482\n",
      "final  value 162.801816 \n",
      "converged\n",
      "# weights:  30 (18 variable)\n",
      "initial  value 854.720361 \n",
      "iter  10 value 272.255491\n",
      "iter  20 value 183.089836\n",
      "iter  30 value 161.391622\n",
      "iter  40 value 160.135617\n",
      "iter  50 value 160.006117\n",
      "iter  60 value 159.976687\n",
      "iter  70 value 159.972533\n",
      "final  value 159.972519 \n",
      "converged\n",
      "# weights:  24 (14 variable)\n",
      "initial  value 854.720361 \n",
      "iter  10 value 364.482611\n",
      "iter  20 value 348.774450\n",
      "iter  30 value 348.263820\n",
      "iter  30 value 348.263820\n",
      "final  value 348.263820 \n",
      "converged\n",
      "# weights:  36 (22 variable)\n",
      "initial  value 854.720361 \n",
      "iter  10 value 224.859736\n",
      "iter  20 value 165.909556\n",
      "iter  30 value 158.662247\n",
      "iter  40 value 158.609738\n",
      "final  value 158.609611 \n",
      "converged\n",
      "# weights:  36 (22 variable)\n",
      "initial  value 854.720361 \n",
      "iter  10 value 216.453767\n",
      "iter  20 value 166.510081\n",
      "iter  30 value 158.872328\n",
      "iter  40 value 158.804500\n",
      "final  value 158.804320 \n",
      "converged\n",
      "# weights:  36 (22 variable)\n",
      "initial  value 854.720361 \n",
      "iter  10 value 208.680573\n",
      "iter  20 value 166.483129\n",
      "iter  30 value 158.880318\n",
      "iter  40 value 158.799360\n",
      "final  value 158.799102 \n",
      "converged\n",
      "# weights:  36 (22 variable)\n",
      "initial  value 854.720361 \n",
      "iter  10 value 210.894061\n",
      "iter  20 value 164.270646\n",
      "iter  30 value 158.636518\n",
      "iter  40 value 158.606683\n",
      "final  value 158.606588 \n",
      "converged\n",
      "# weights:  42 (26 variable)\n",
      "initial  value 854.720361 \n",
      "iter  10 value 203.478145\n",
      "iter  20 value 164.282357\n",
      "iter  30 value 157.452237\n",
      "iter  40 value 157.403258\n",
      "final  value 157.403121 \n",
      "converged\n",
      "# weights:  36 (22 variable)\n",
      "initial  value 854.720361 \n",
      "iter  10 value 215.134788\n",
      "iter  20 value 164.004354\n",
      "iter  30 value 158.814237\n",
      "iter  40 value 158.734359\n",
      "final  value 158.734092 \n",
      "converged\n",
      "# weights:  36 (22 variable)\n",
      "initial  value 854.720361 \n",
      "iter  10 value 204.626378\n",
      "iter  20 value 166.387136\n",
      "iter  30 value 158.773571\n",
      "iter  40 value 158.724125\n",
      "final  value 158.723993 \n",
      "converged\n",
      "# weights:  30 (18 variable)\n",
      "initial  value 854.720361 \n",
      "iter  10 value 201.747820\n",
      "iter  20 value 160.653395\n",
      "iter  30 value 159.649353\n",
      "final  value 159.647507 \n",
      "converged\n",
      "# weights:  27 (16 variable)\n",
      "initial  value 854.720361 \n",
      "iter  10 value 208.628630\n",
      "iter  20 value 163.171472\n",
      "iter  30 value 160.590062\n",
      "final  value 160.570168 \n",
      "converged\n",
      "# weights:  27 (16 variable)\n",
      "initial  value 854.720361 \n",
      "iter  10 value 188.187061\n",
      "iter  20 value 163.063776\n",
      "iter  30 value 162.485785\n",
      "final  value 162.484964 \n",
      "converged\n",
      "# weights:  27 (16 variable)\n",
      "initial  value 854.720361 \n",
      "iter  10 value 221.900344\n",
      "iter  20 value 161.625258\n",
      "iter  30 value 160.096846\n",
      "final  value 160.094127 \n",
      "converged\n",
      "# weights:  27 (16 variable)\n",
      "initial  value 854.720361 \n",
      "iter  10 value 220.034660\n",
      "iter  20 value 165.941365\n",
      "iter  30 value 164.466710\n",
      "final  value 164.464687 \n",
      "converged\n",
      "# weights:  27 (16 variable)\n",
      "initial  value 854.720361 \n",
      "iter  10 value 265.088644\n",
      "iter  20 value 176.772392\n",
      "iter  30 value 161.078613\n",
      "iter  40 value 160.585068\n",
      "iter  50 value 160.571412\n",
      "final  value 160.571405 \n",
      "converged\n",
      "# weights:  21 (12 variable)\n",
      "initial  value 854.720361 \n",
      "iter  10 value 366.616824\n",
      "iter  20 value 351.415599\n",
      "final  value 351.243087 \n",
      "converged\n",
      "# weights:  33 (20 variable)\n",
      "initial  value 854.720361 \n",
      "iter  10 value 208.594346\n",
      "iter  20 value 162.899165\n",
      "iter  30 value 158.860622\n",
      "iter  40 value 158.844732\n",
      "final  value 158.844702 \n",
      "converged\n",
      "# weights:  33 (20 variable)\n",
      "initial  value 854.720361 \n",
      "iter  10 value 219.666278\n",
      "iter  20 value 162.036458\n",
      "iter  30 value 159.375788\n",
      "iter  40 value 159.370173\n",
      "final  value 159.370167 \n",
      "converged\n",
      "# weights:  33 (20 variable)\n",
      "initial  value 854.720361 \n",
      "iter  10 value 221.185242\n",
      "iter  20 value 161.952717\n",
      "iter  30 value 159.638636\n",
      "iter  40 value 159.634022\n",
      "final  value 159.634017 \n",
      "converged\n",
      "# weights:  33 (20 variable)\n",
      "initial  value 854.720361 \n",
      "iter  10 value 205.590113\n",
      "iter  20 value 162.671564\n",
      "iter  30 value 159.562334\n",
      "iter  40 value 159.555688\n",
      "final  value 159.555682 \n",
      "converged\n",
      "# weights:  33 (20 variable)\n",
      "initial  value 854.720361 \n",
      "iter  10 value 207.546533\n",
      "iter  20 value 162.503413\n",
      "iter  30 value 159.390938\n",
      "iter  40 value 159.384773\n",
      "final  value 159.384768 \n",
      "converged\n",
      "# weights:  39 (24 variable)\n",
      "initial  value 854.720361 \n",
      "iter  10 value 195.603550\n",
      "iter  20 value 161.602436\n",
      "iter  30 value 158.237677\n",
      "iter  40 value 158.228028\n",
      "final  value 158.228016 \n",
      "converged\n",
      "# weights:  33 (20 variable)\n",
      "initial  value 854.720361 \n",
      "iter  10 value 203.979777\n",
      "iter  20 value 162.105917\n",
      "iter  30 value 159.575782\n",
      "iter  40 value 159.569743\n",
      "final  value 159.569737 \n",
      "converged\n",
      "# weights:  33 (20 variable)\n",
      "initial  value 854.720361 \n",
      "iter  10 value 210.955891\n",
      "iter  20 value 161.559839\n",
      "iter  30 value 159.475944\n",
      "iter  40 value 159.471716\n",
      "final  value 159.471712 \n",
      "converged\n",
      "# weights:  27 (16 variable)\n",
      "initial  value 854.720361 \n",
      "iter  10 value 221.900344\n",
      "iter  20 value 161.625258\n",
      "iter  30 value 160.096846\n",
      "final  value 160.094127 \n",
      "converged\n",
      "# weights:  24 (14 variable)\n",
      "initial  value 854.720361 \n",
      "iter  10 value 234.974878\n",
      "iter  20 value 165.329544\n",
      "iter  30 value 160.627472\n",
      "iter  40 value 160.625287\n",
      "iter  50 value 160.622783\n",
      "iter  60 value 160.616716\n",
      "iter  60 value 160.616716\n",
      "iter  60 value 160.616715\n",
      "final  value 160.616715 \n",
      "converged\n",
      "# weights:  24 (14 variable)\n",
      "initial  value 854.720361 \n",
      "iter  10 value 211.516259\n",
      "iter  20 value 164.523360\n",
      "iter  30 value 163.991098\n",
      "final  value 163.991079 \n",
      "converged\n",
      "# weights:  24 (14 variable)\n",
      "initial  value 854.720361 \n",
      "iter  10 value 261.544429\n",
      "iter  20 value 200.339596\n",
      "iter  30 value 199.394484\n",
      "iter  30 value 199.394484\n",
      "final  value 199.394484 \n",
      "converged\n",
      "# weights:  24 (14 variable)\n",
      "initial  value 854.720361 \n",
      "iter  10 value 298.240841\n",
      "iter  20 value 195.681584\n",
      "iter  30 value 193.905976\n",
      "iter  40 value 193.851930\n",
      "iter  50 value 193.791451\n",
      "iter  60 value 193.782104\n",
      "final  value 193.782099 \n",
      "converged\n",
      "# weights:  18 (10 variable)\n",
      "initial  value 854.720361 \n",
      "iter  10 value 390.521810\n",
      "iter  20 value 352.175605\n",
      "iter  30 value 352.008300\n",
      "iter  40 value 351.970346\n",
      "final  value 351.969581 \n",
      "converged\n",
      "# weights:  30 (18 variable)\n",
      "initial  value 854.720361 \n",
      "iter  10 value 234.352051\n",
      "iter  20 value 167.075107\n",
      "iter  30 value 160.115071\n",
      "final  value 160.093245 \n",
      "converged\n",
      "# weights:  30 (18 variable)\n",
      "initial  value 854.720361 \n",
      "iter  10 value 226.530890\n",
      "iter  20 value 167.163130\n",
      "iter  30 value 159.765999\n",
      "final  value 159.745689 \n",
      "converged\n",
      "# weights:  30 (18 variable)\n",
      "initial  value 854.720361 \n",
      "iter  10 value 233.719965\n",
      "iter  20 value 164.391274\n",
      "iter  30 value 160.101297\n",
      "final  value 160.092222 \n",
      "converged\n",
      "# weights:  30 (18 variable)\n",
      "initial  value 854.720361 \n",
      "iter  10 value 239.968126\n",
      "iter  20 value 167.657017\n",
      "iter  30 value 159.990072\n",
      "final  value 159.972737 \n",
      "converged\n",
      "# weights:  30 (18 variable)\n",
      "initial  value 854.720361 \n",
      "iter  10 value 226.254051\n",
      "iter  20 value 166.237540\n",
      "iter  30 value 159.810398\n",
      "final  value 159.796965 \n",
      "converged\n",
      "# weights:  30 (18 variable)\n",
      "initial  value 854.720361 \n",
      "iter  10 value 201.747820\n",
      "iter  20 value 160.653395\n",
      "iter  30 value 159.649353\n",
      "final  value 159.647507 \n",
      "converged\n",
      "# weights:  36 (22 variable)\n",
      "initial  value 854.720361 \n",
      "iter  10 value 216.080970\n",
      "iter  20 value 168.305217\n",
      "iter  30 value 158.836082\n",
      "iter  40 value 158.815219\n",
      "final  value 158.815194 \n",
      "converged\n",
      "# weights:  30 (18 variable)\n",
      "initial  value 854.720361 \n",
      "iter  10 value 224.342046\n",
      "iter  20 value 163.326239\n",
      "iter  30 value 159.961854\n",
      "final  value 159.952259 \n",
      "converged\n",
      "# weights:  30 (18 variable)\n",
      "initial  value 854.720361 \n",
      "iter  10 value 237.100502\n",
      "iter  20 value 165.201854\n",
      "iter  30 value 159.848008\n",
      "final  value 159.838184 \n",
      "converged\n",
      "# weights:  24 (14 variable)\n",
      "initial  value 854.720361 \n",
      "iter  10 value 234.974878\n",
      "iter  20 value 165.329544\n",
      "iter  30 value 160.627472\n",
      "iter  40 value 160.625287\n",
      "iter  50 value 160.622783\n",
      "iter  60 value 160.616716\n",
      "iter  60 value 160.616716\n",
      "iter  60 value 160.616715\n",
      "final  value 160.616715 \n",
      "converged\n",
      "# weights:  21 (12 variable)\n",
      "initial  value 854.720361 \n",
      "iter  10 value 219.595333\n",
      "iter  20 value 168.919108\n",
      "iter  30 value 164.489618\n",
      "iter  40 value 164.412117\n",
      "iter  50 value 164.379866\n",
      "iter  60 value 164.354079\n",
      "iter  70 value 164.342403\n",
      "iter  80 value 164.332415\n",
      "iter  90 value 164.325508\n",
      "iter 100 value 164.318257\n",
      "final  value 164.318257 \n",
      "stopped after 100 iterations\n",
      "# weights:  21 (12 variable)\n",
      "initial  value 854.720361 \n",
      "iter  10 value 279.647423\n",
      "iter  20 value 208.009032\n",
      "iter  30 value 201.355931\n",
      "iter  40 value 200.823563\n",
      "iter  50 value 199.885188\n",
      "iter  60 value 199.839153\n",
      "iter  70 value 199.829484\n",
      "iter  80 value 199.805755\n",
      "iter  90 value 199.722279\n",
      "iter 100 value 199.563933\n",
      "final  value 199.563933 \n",
      "stopped after 100 iterations\n",
      "# weights:  21 (12 variable)\n",
      "initial  value 854.720361 \n",
      "iter  10 value 319.205447\n",
      "iter  20 value 205.096542\n",
      "iter  30 value 204.703326\n",
      "iter  40 value 204.581536\n",
      "iter  50 value 204.536454\n",
      "final  value 204.536328 \n",
      "converged\n",
      "# weights:  15 (8 variable)\n",
      "initial  value 854.720361 \n",
      "iter  10 value 411.456135\n",
      "iter  20 value 359.538107\n",
      "iter  30 value 357.437234\n",
      "iter  40 value 356.888834\n",
      "iter  50 value 356.817021\n",
      "final  value 356.816714 \n",
      "converged\n",
      "# weights:  27 (16 variable)\n",
      "initial  value 854.720361 \n",
      "iter  10 value 239.316634\n",
      "iter  20 value 173.865312\n",
      "iter  30 value 160.704997\n",
      "iter  40 value 160.605920\n",
      "iter  50 value 160.603417\n",
      "final  value 160.603169 \n",
      "converged\n",
      "# weights:  27 (16 variable)\n",
      "initial  value 854.720361 \n",
      "iter  10 value 221.900344\n",
      "iter  20 value 161.625258\n",
      "iter  30 value 160.096846\n",
      "final  value 160.094127 \n",
      "converged\n",
      "# weights:  27 (16 variable)\n",
      "initial  value 854.720361 \n",
      "iter  10 value 234.732866\n",
      "iter  20 value 169.294309\n",
      "iter  30 value 160.626312\n",
      "iter  40 value 160.578813\n",
      "final  value 160.576862 \n",
      "converged\n",
      "# weights:  27 (16 variable)\n",
      "initial  value 854.720361 \n",
      "iter  10 value 232.115651\n",
      "iter  20 value 172.323439\n",
      "iter  30 value 160.589020\n",
      "iter  40 value 160.517868\n",
      "iter  50 value 160.516318\n",
      "iter  60 value 160.515470\n",
      "final  value 160.514169 \n",
      "converged\n",
      "# weights:  27 (16 variable)\n",
      "initial  value 854.720361 \n",
      "iter  10 value 238.709523\n",
      "iter  20 value 173.005273\n",
      "iter  30 value 160.627220\n",
      "iter  40 value 160.519440\n",
      "iter  50 value 160.513607\n",
      "final  value 160.512955 \n",
      "converged\n",
      "# weights:  27 (16 variable)\n",
      "initial  value 854.720361 \n",
      "iter  10 value 239.122005\n",
      "iter  20 value 175.010964\n",
      "iter  30 value 160.416203\n",
      "iter  40 value 160.324060\n",
      "iter  50 value 160.323591\n",
      "iter  60 value 160.322608\n",
      "final  value 160.322290 \n",
      "converged\n",
      "# weights:  27 (16 variable)\n",
      "initial  value 854.720361 \n",
      "iter  10 value 208.628630\n",
      "iter  20 value 163.171472\n",
      "iter  30 value 160.590062\n",
      "final  value 160.570168 \n",
      "converged\n",
      "# weights:  33 (20 variable)\n",
      "initial  value 854.720361 \n",
      "iter  10 value 233.433577\n",
      "iter  20 value 174.074644\n",
      "iter  30 value 159.384606\n",
      "iter  40 value 159.319208\n",
      "final  value 159.319146 \n",
      "converged\n",
      "# weights:  27 (16 variable)\n",
      "initial  value 854.720361 \n",
      "iter  10 value 239.021230\n",
      "iter  20 value 167.745159\n",
      "iter  30 value 160.084509\n",
      "iter  40 value 160.045364\n",
      "iter  50 value 160.044553\n",
      "final  value 160.042927 \n",
      "converged\n",
      "# weights:  27 (16 variable)\n",
      "initial  value 854.720361 \n",
      "iter  10 value 243.587130\n",
      "iter  20 value 171.184441\n",
      "iter  30 value 160.580653\n",
      "iter  40 value 160.509467\n",
      "iter  50 value 160.508427\n",
      "iter  60 value 160.507242\n",
      "final  value 160.506824 \n",
      "converged\n",
      "# weights:  60 (38 variable)\n",
      "initial  value 854.720361 \n",
      "iter  10 value 200.849151\n",
      "iter  20 value 166.527859\n",
      "iter  30 value 157.681655\n",
      "iter  40 value 156.960460\n",
      "iter  50 value 156.950901\n",
      "final  value 156.950872 \n",
      "converged\n",
      "# weights:  57 (36 variable)\n",
      "initial  value 854.720361 \n",
      "iter  10 value 200.388180\n",
      "iter  20 value 165.067999\n",
      "iter  30 value 157.514413\n",
      "iter  40 value 157.003380\n",
      "iter  50 value 156.999964\n",
      "final  value 156.999688 \n",
      "converged\n",
      "# weights:  57 (36 variable)\n",
      "initial  value 854.720361 \n",
      "iter  10 value 198.234548\n",
      "iter  20 value 165.771998\n",
      "iter  30 value 160.429202\n",
      "iter  40 value 160.166775\n",
      "iter  50 value 160.155496\n",
      "final  value 160.155418 \n",
      "converged\n",
      "# weights:  51 (32 variable)\n",
      "initial  value 854.720361 \n",
      "iter  10 value 205.745566\n",
      "iter  20 value 166.110526\n",
      "iter  30 value 157.375220\n",
      "iter  40 value 156.957896\n",
      "iter  50 value 156.950889\n",
      "final  value 156.950873 \n",
      "converged\n",
      "# weights:  57 (36 variable)\n",
      "initial  value 854.720361 \n",
      "iter  10 value 200.287620\n",
      "iter  20 value 167.337057\n",
      "iter  30 value 157.467146\n",
      "iter  40 value 157.237421\n",
      "iter  50 value 157.230443\n",
      "final  value 157.230384 \n",
      "converged\n",
      "# weights:  51 (32 variable)\n",
      "initial  value 854.720361 \n",
      "iter  10 value 212.288068\n",
      "iter  20 value 169.302219\n",
      "iter  30 value 157.348383\n",
      "iter  40 value 156.953985\n",
      "iter  50 value 156.950877\n",
      "final  value 156.950873 \n",
      "converged\n",
      "# weights:  51 (32 variable)\n",
      "initial  value 854.720361 \n",
      "iter  10 value 216.574697\n",
      "iter  20 value 171.730410\n",
      "iter  30 value 158.173683\n",
      "iter  40 value 156.953286\n",
      "iter  50 value 156.950875\n",
      "iter  50 value 156.950873\n",
      "iter  50 value 156.950873\n",
      "final  value 156.950873 \n",
      "converged\n",
      "# weights:  51 (32 variable)\n",
      "initial  value 854.720361 \n",
      "iter  10 value 205.745566\n",
      "iter  20 value 166.110526\n",
      "iter  30 value 157.375220\n",
      "iter  40 value 156.957896\n",
      "iter  50 value 156.950889\n",
      "final  value 156.950873 \n",
      "converged\n",
      "# weights:  48 (30 variable)\n",
      "initial  value 854.720361 \n",
      "iter  10 value 204.505216\n",
      "iter  20 value 165.274130\n",
      "iter  30 value 157.258982\n",
      "iter  40 value 157.003010\n",
      "iter  50 value 156.999694\n",
      "final  value 156.999688 \n",
      "converged\n",
      "# weights:  48 (30 variable)\n",
      "initial  value 854.720361 \n",
      "iter  10 value 205.638219\n",
      "iter  20 value 168.006757\n",
      "iter  30 value 160.331139\n",
      "iter  40 value 160.159569\n",
      "iter  50 value 160.157072\n",
      "final  value 160.155419 \n",
      "converged\n",
      "# weights:  48 (30 variable)\n",
      "initial  value 854.720361 \n",
      "iter  10 value 214.274880\n",
      "iter  20 value 165.565125\n",
      "iter  30 value 157.530488\n",
      "iter  40 value 157.231145\n",
      "final  value 157.230383 \n",
      "converged\n",
      "# weights:  42 (26 variable)\n",
      "initial  value 854.720361 \n",
      "iter  10 value 207.917870\n",
      "iter  20 value 166.831569\n",
      "iter  30 value 157.139964\n",
      "iter  40 value 156.953598\n",
      "iter  50 value 156.950880\n",
      "final  value 156.950872 \n",
      "converged\n",
      "# weights:  42 (26 variable)\n",
      "initial  value 854.720361 \n",
      "iter  10 value 216.658354\n",
      "iter  20 value 171.961200\n",
      "iter  30 value 157.696349\n",
      "iter  40 value 156.956062\n",
      "iter  50 value 156.950881\n",
      "final  value 156.950873 \n",
      "converged\n",
      "# weights:  60 (38 variable)\n",
      "initial  value 854.720361 \n",
      "iter  10 value 200.849151\n",
      "iter  20 value 166.527859\n",
      "iter  30 value 157.681655\n",
      "iter  40 value 156.960460\n",
      "iter  50 value 156.950901\n",
      "final  value 156.950872 \n",
      "converged\n",
      "# weights:  42 (26 variable)\n",
      "initial  value 854.720361 \n",
      "iter  10 value 207.917870\n",
      "iter  20 value 166.831569\n",
      "iter  30 value 157.139964\n",
      "iter  40 value 156.953598\n",
      "iter  50 value 156.950880\n",
      "final  value 156.950872 \n",
      "converged\n",
      "# weights:  39 (24 variable)\n",
      "initial  value 854.720361 \n",
      "iter  10 value 215.757980\n",
      "iter  20 value 165.330390\n",
      "iter  30 value 157.097388\n",
      "iter  40 value 156.999960\n",
      "final  value 156.999688 \n",
      "converged\n",
      "# weights:  39 (24 variable)\n",
      "initial  value 854.720361 \n",
      "iter  10 value 212.579412\n",
      "iter  20 value 167.949630\n",
      "iter  30 value 160.235590\n",
      "iter  40 value 160.156141\n",
      "final  value 160.155418 \n",
      "converged\n",
      "# weights:  39 (24 variable)\n",
      "initial  value 854.720361 \n",
      "iter  10 value 220.483421\n",
      "iter  20 value 167.362282\n",
      "iter  30 value 157.291400\n",
      "iter  40 value 157.230533\n",
      "final  value 157.230383 \n",
      "converged\n",
      "# weights:  33 (20 variable)\n",
      "initial  value 854.720361 \n",
      "iter  10 value 225.102377\n",
      "iter  20 value 173.332574\n",
      "iter  30 value 157.159140\n",
      "iter  40 value 156.951160\n",
      "final  value 156.950945 \n",
      "converged\n",
      "# weights:  51 (32 variable)\n",
      "initial  value 854.720361 \n",
      "iter  10 value 212.288068\n",
      "iter  20 value 169.302219\n",
      "iter  30 value 157.348383\n",
      "iter  40 value 156.953985\n",
      "iter  50 value 156.950877\n",
      "final  value 156.950873 \n",
      "converged\n",
      "# weights:  51 (32 variable)\n",
      "initial  value 854.720361 \n",
      "iter  10 value 205.745566\n",
      "iter  20 value 166.110526\n",
      "iter  30 value 157.375220\n",
      "iter  40 value 156.957896\n",
      "iter  50 value 156.950889\n",
      "final  value 156.950873 \n",
      "converged\n",
      "# weights:  33 (20 variable)\n",
      "initial  value 854.720361 \n",
      "iter  10 value 225.102377\n",
      "iter  20 value 173.332574\n",
      "iter  30 value 157.159140\n",
      "iter  40 value 156.951160\n",
      "final  value 156.950945 \n",
      "converged\n",
      "# weights:  24 (14 variable)\n",
      "initial  value 854.720361 \n",
      "iter  10 value 394.342243\n",
      "iter  20 value 361.911062\n",
      "iter  30 value 353.269805\n",
      "iter  40 value 353.268204\n",
      "iter  50 value 353.262479\n",
      "iter  60 value 353.256657\n",
      "iter  70 value 353.254775\n",
      "iter  80 value 353.252738\n",
      "final  value 353.252211 \n",
      "converged\n",
      "# weights:  30 (18 variable)\n",
      "initial  value 854.720361 \n",
      "iter  10 value 232.197209\n",
      "iter  20 value 171.781541\n",
      "iter  30 value 157.176698\n",
      "iter  40 value 157.000765\n",
      "final  value 157.000754 \n",
      "converged\n",
      "# weights:  30 (18 variable)\n",
      "initial  value 854.720361 \n",
      "iter  10 value 222.312403\n",
      "iter  20 value 168.724574\n",
      "iter  30 value 160.208395\n",
      "final  value 160.156185 \n",
      "converged\n",
      "# weights:  30 (18 variable)\n",
      "initial  value 854.720361 \n",
      "iter  10 value 258.044216\n",
      "iter  20 value 175.112804\n",
      "iter  30 value 157.451410\n",
      "iter  40 value 157.231878\n",
      "final  value 157.231866 \n",
      "converged\n",
      "# weights:  42 (26 variable)\n",
      "initial  value 854.720361 \n",
      "iter  10 value 231.685364\n",
      "iter  20 value 178.789467\n",
      "iter  30 value 157.529217\n",
      "iter  40 value 156.951855\n",
      "final  value 156.950873 \n",
      "converged\n",
      "# weights:  42 (26 variable)\n",
      "initial  value 854.720361 \n",
      "iter  10 value 216.658354\n",
      "iter  20 value 171.961200\n",
      "iter  30 value 157.696349\n",
      "iter  40 value 156.956062\n",
      "iter  50 value 156.950881\n",
      "final  value 156.950873 \n",
      "converged\n",
      "# weights:  42 (26 variable)\n",
      "initial  value 854.720361 \n",
      "iter  10 value 207.917870\n",
      "iter  20 value 166.831569\n",
      "iter  30 value 157.139964\n",
      "iter  40 value 156.953598\n",
      "iter  50 value 156.950880\n",
      "final  value 156.950872 \n",
      "converged\n",
      "# weights:  30 (18 variable)\n",
      "initial  value 854.720361 \n",
      "iter  10 value 232.197209\n",
      "iter  20 value 171.781541\n",
      "iter  30 value 157.176698\n",
      "iter  40 value 157.000765\n",
      "final  value 157.000754 \n",
      "converged\n",
      "# weights:  21 (12 variable)\n",
      "initial  value 854.720361 \n",
      "iter  10 value 391.746295\n",
      "iter  20 value 356.920212\n",
      "iter  30 value 354.681887\n",
      "iter  40 value 354.664507\n",
      "iter  50 value 354.631312\n",
      "final  value 354.629238 \n",
      "converged\n",
      "# weights:  27 (16 variable)\n",
      "initial  value 854.720361 \n",
      "iter  10 value 215.550605\n",
      "iter  20 value 167.649763\n",
      "iter  30 value 160.449075\n",
      "iter  40 value 160.398895\n",
      "final  value 160.396937 \n",
      "converged\n",
      "# weights:  27 (16 variable)\n",
      "initial  value 854.720361 \n",
      "iter  10 value 238.133615\n",
      "iter  20 value 169.485049\n",
      "iter  30 value 157.389517\n",
      "iter  40 value 157.297055\n",
      "iter  50 value 157.295400\n",
      "final  value 157.294718 \n",
      "converged\n",
      "# weights:  33 (20 variable)\n",
      "initial  value 854.720361 \n",
      "iter  10 value 225.102377\n",
      "iter  20 value 173.332574\n",
      "iter  30 value 157.159140\n",
      "iter  40 value 156.951160\n",
      "final  value 156.950945 \n",
      "converged\n",
      "# weights:  39 (24 variable)\n",
      "initial  value 854.720361 \n",
      "iter  10 value 227.857241\n",
      "iter  20 value 172.181125\n",
      "iter  30 value 157.313516\n",
      "iter  40 value 157.000127\n",
      "final  value 156.999688 \n",
      "converged\n",
      "# weights:  39 (24 variable)\n",
      "initial  value 854.720361 \n",
      "iter  10 value 207.871445\n",
      "iter  20 value 168.072471\n",
      "iter  30 value 157.363193\n",
      "iter  40 value 157.000569\n",
      "final  value 156.999688 \n",
      "converged\n",
      "# weights:  39 (24 variable)\n",
      "initial  value 854.720361 \n",
      "iter  10 value 215.757980\n",
      "iter  20 value 165.330390\n",
      "iter  30 value 157.097388\n",
      "iter  40 value 156.999960\n",
      "final  value 156.999688 \n",
      "converged\n",
      "# weights:  27 (16 variable)\n",
      "initial  value 854.720361 \n",
      "iter  10 value 238.133615\n",
      "iter  20 value 169.485049\n",
      "iter  30 value 157.389517\n",
      "iter  40 value 157.297055\n",
      "iter  50 value 157.295400\n",
      "final  value 157.294718 \n",
      "converged\n",
      "# weights:  24 (14 variable)\n",
      "initial  value 854.720361 \n",
      "iter  10 value 301.774150\n",
      "iter  20 value 211.034274\n",
      "iter  30 value 198.734972\n",
      "iter  40 value 197.122807\n",
      "iter  50 value 196.692756\n",
      "iter  60 value 196.646410\n",
      "iter  70 value 196.636481\n",
      "iter  80 value 196.630401\n",
      "iter  90 value 196.527252\n",
      "iter 100 value 196.508745\n",
      "final  value 196.508745 \n",
      "stopped after 100 iterations\n",
      "# weights:  18 (10 variable)\n",
      "initial  value 854.720361 \n",
      "iter  10 value 412.846668\n",
      "iter  20 value 356.317480\n",
      "iter  30 value 355.230367\n",
      "iter  40 value 354.619250\n",
      "final  value 354.607867 \n",
      "converged\n",
      "# weights:  24 (14 variable)\n",
      "initial  value 854.720361 \n",
      "iter  10 value 234.974878\n",
      "iter  20 value 165.329544\n",
      "iter  30 value 160.627472\n",
      "iter  40 value 160.625287\n",
      "iter  50 value 160.622783\n",
      "iter  60 value 160.616716\n",
      "iter  60 value 160.616716\n",
      "iter  60 value 160.616715\n",
      "final  value 160.616715 \n",
      "converged\n",
      "# weights:  30 (18 variable)\n",
      "initial  value 854.720361 \n",
      "iter  10 value 258.044216\n",
      "iter  20 value 175.112804\n",
      "iter  30 value 157.451410\n",
      "iter  40 value 157.231878\n",
      "final  value 157.231866 \n",
      "converged\n",
      "# weights:  36 (22 variable)\n",
      "initial  value 854.720361 \n",
      "iter  10 value 248.866704\n",
      "iter  20 value 177.312200\n",
      "iter  30 value 157.498033\n",
      "iter  40 value 157.288952\n",
      "final  value 157.288683 \n",
      "converged\n",
      "# weights:  30 (18 variable)\n",
      "initial  value 854.720361 \n",
      "iter  10 value 232.197209\n",
      "iter  20 value 171.781541\n",
      "iter  30 value 157.176698\n",
      "iter  40 value 157.000765\n",
      "final  value 157.000754 \n",
      "converged\n",
      "# weights:  36 (22 variable)\n",
      "initial  value 854.720361 \n",
      "iter  10 value 220.570434\n",
      "iter  20 value 167.241111\n",
      "iter  30 value 157.363797\n",
      "iter  40 value 157.288761\n",
      "final  value 157.288679 \n",
      "converged\n",
      "# weights:  36 (22 variable)\n",
      "initial  value 854.720361 \n",
      "iter  10 value 226.798108\n",
      "iter  20 value 165.372788\n",
      "iter  30 value 157.345487\n",
      "iter  40 value 157.288810\n",
      "final  value 157.288680 \n",
      "converged\n"
     ]
    }
   ],
   "source": [
    "rl_model_no_i <- multinom(Experience_Level ~ ., data = train)\n",
    "\n",
    "rl_AIC_no_i <- stepAIC(rl_model_no_i, direction = \"both\", trace = FALSE)\n",
    "\n",
    "# Variables retenues par AIC\n",
    "selected_vars <- all.vars(formula(rl_AIC_no_i))[-1] \n",
    "\n",
    "formula_interactions <- as.formula(\n",
    "  paste(\"Experience_Level ~ (\", paste(selected_vars, collapse = \" + \"), \")^2\")\n",
    ")\n",
    "#AIC \n",
    "rl_model_i_optimized <- multinom(formula_interactions, data = train)\n",
    "rl_AIC_i <- stepAIC(rl_model_i_optimized, direction = \"both\", trace = FALSE)"
   ]
  },
  {
   "cell_type": "code",
   "execution_count": 39,
   "id": "e75654bc-b171-4a35-b7a4-6e75b2fb4743",
   "metadata": {},
   "outputs": [
    {
     "name": "stdout",
     "output_type": "stream",
     "text": [
      "Likelihood ratio test\n",
      "\n",
      "Model 1: Experience_Level ~ Avg_BPM + S_Calories_Burned + C_Fat_Percentage + \n",
      "    Workout_Frequency..days.week.\n",
      "Model 2: Experience_Level ~ Avg_BPM + S_Calories_Burned + C_Fat_Percentage + \n",
      "    Workout_Frequency..days.week. + Avg_BPM:C_Fat_Percentage\n",
      "  #Df  LogLik Df Chisq Pr(>Chisq)  \n",
      "1  14 -160.62                      \n",
      "2  16 -157.29  2 6.644    0.03608 *\n",
      "---\n",
      "Signif. codes:  0 '***' 0.001 '**' 0.01 '*' 0.05 '.' 0.1 ' ' 1\n",
      "[1] \"Cross-Entropy Loss model sans intéractions 0.244228974130745\"\n",
      "[1] \"Cross-Entropy Loss model avec intéractions 0.255764324360894\"\n"
     ]
    }
   ],
   "source": [
    "lrt_result <- lrtest(rl_AIC_no_i, rl_AIC_i)\n",
    "print(lrt_result)\n",
    "print(paste(\"Cross-Entropy Loss model sans intéractions\", loss_cross_entropy_level(rl_AIC_no_i, test)))\n",
    "print(paste(\"Cross-Entropy Loss model avec intéractions\", loss_cross_entropy_level(rl_AIC_i, test)))\n"
   ]
  },
  {
   "cell_type": "code",
   "execution_count": 45,
   "id": "7e209f18-0c43-4d74-b657-59399d0a2e02",
   "metadata": {},
   "outputs": [],
   "source": [
    "lr_AIC = rl_AIC_no_i"
   ]
  },
  {
   "cell_type": "markdown",
   "id": "4757fc09-5bfb-4032-8e2a-0218104cfd63",
   "metadata": {},
   "source": [
    "- **Optimisation avec Régularisation LASSO**"
   ]
  },
  {
   "cell_type": "code",
   "execution_count": 191,
   "id": "74d89b6f-62b6-4ec3-a490-9e446fb09341",
   "metadata": {},
   "outputs": [],
   "source": [
    "loss_cross_entropy_level_glm <- function(model, x.test, test_data){\n",
    "    probabilities <- drop(predict(model, newx = x.test, type = \"response\"))  # Matrice [N x K]\n",
    "    true_classes <- test_data$Experience_Level\n",
    "    true_one_hot <- model.matrix(~ Experience_Level - 1, data = test_data)  # Matrice [N x K]\n",
    "    probabilities <- pmax(probabilities, epsilon)\n",
    "    probabilities <- pmin(probabilities, 1 - epsilon)\n",
    "    \n",
    "    log_loss <- -mean(rowSums(true_one_hot * log(probabilities)))\n",
    "    return (log_loss)\n",
    "}"
   ]
  },
  {
   "cell_type": "code",
   "execution_count": 68,
   "id": "1327924b-8194-43d8-bc1b-e195b35f3f9f",
   "metadata": {},
   "outputs": [],
   "source": [
    "x.mat_no_i <- model.matrix(Experience_Level ~ ., data = train)[,-1] \n",
    "x.mat_i <- model.matrix(Experience_Level ~ .^2, data = train)[,-1]\n",
    "\n",
    "x.mat_no_i_test <- model.matrix(Experience_Level ~ ., data = test)[,-1]\n",
    "x.mat_i_test <- model.matrix(Experience_Level ~ .^2, data = test)[,-1]\n",
    "\n",
    "reg.lasso.cv_no_i <- cv.glmnet(\n",
    "  x = x.mat_no_i,\n",
    "  y = train$Experience_Level,\n",
    "  family = \"multinomial\", \n",
    "  type.measure = \"class\",\n",
    "  alpha = 1\n",
    ")\n",
    "\n",
    "reg.lasso.cv_i <- cv.glmnet(\n",
    "  x = x.mat_i,\n",
    "  y = train$Experience_Level,\n",
    "  family = \"multinomial\",\n",
    "  type.measure = \"class\",\n",
    "  alpha = 1\n",
    ")\n",
    "lr_lasso_no_i <- glmnet(\n",
    "  x = x.mat_no_i,\n",
    "  y = train$Experience_Level,\n",
    "  family = \"multinomial\",\n",
    "  lambda = reg.lasso.cv_no_i$lambda.min\n",
    ")\n",
    "\n",
    "lr_lasso_i <- glmnet(\n",
    "  x = x.mat_i,\n",
    "  y = train$Experience_Level,\n",
    "  family = \"multinomial\",\n",
    "  lambda = reg.lasso.cv_i$lambda.min\n",
    ")"
   ]
  },
  {
   "cell_type": "code",
   "execution_count": 193,
   "id": "959e74b4-d3d2-4e59-962c-7e060156e8b3",
   "metadata": {},
   "outputs": [
    {
     "name": "stdout",
     "output_type": "stream",
     "text": [
      "Perte sans interactions : 0.2529982 \n",
      "Perte avec interactions : 0.2645111 \n"
     ]
    }
   ],
   "source": [
    "cat(\"Perte sans interactions :\", loss_cross_entropy_level_glm(lm_lasso_no_i, x.mat_no_i_test, test), \"\\n\")\n",
    "cat(\"Perte avec interactions :\", loss_cross_entropy_level_glm(lm_lasso_i, x.mat_i_test, test), \"\\n\")"
   ]
  },
  {
   "cell_type": "code",
   "execution_count": 195,
   "id": "1cbcb5d2-c57d-476a-9508-a233589422ce",
   "metadata": {},
   "outputs": [],
   "source": [
    "lr_lasso = lr_lasso_no_i"
   ]
  },
  {
   "cell_type": "code",
   "execution_count": null,
   "id": "f43385ca-1673-4419-9cf2-118efd4b6eca",
   "metadata": {},
   "outputs": [],
   "source": [
    "loss_mse_calo()"
   ]
  },
  {
   "cell_type": "code",
   "execution_count": null,
   "id": "dc640090-e551-411c-b048-b8976a204de9",
   "metadata": {},
   "outputs": [],
   "source": []
  }
 ],
 "metadata": {
  "kernelspec": {
   "display_name": "R",
   "language": "R",
   "name": "ir"
  },
  "language_info": {
   "codemirror_mode": "r",
   "file_extension": ".r",
   "mimetype": "text/x-r-source",
   "name": "R",
   "pygments_lexer": "r",
   "version": "4.4.3"
  }
 },
 "nbformat": 4,
 "nbformat_minor": 5
}
